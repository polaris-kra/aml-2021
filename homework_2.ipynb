{
 "cells": [
  {
   "cell_type": "markdown",
   "metadata": {},
   "source": [
    "# Рейтинг-система для спортивного «Что? Где? Когда?».\n",
    "\n",
    "![](logo.png)\n",
    "\n",
    "Продвинутое машинное обучение: ДЗ 2<br>\n",
    "Задание: [link](https://logic.pdmi.ras.ru/~sergey/teaching/mademl2021.html)<br>\n",
    "Выполнил: **Полянских Сергей**, март 2021\n",
    "\n",
    "1. [Данные](#1.-Данные)\n",
    "2. [Ранжирование](#2.-Ранжирование)\n",
    "3. [Бейзлайн](#3.-Бейзлайн)\n",
    "  1. [Очень простая модель](#1.-Очень-простая-модель)\n",
    "  2. [Логрегрессия](#2.-Логрегрессия)\n",
    "4. [EM-алгоритм](#4.-EM-алгоритм)\n",
    "5. [Рейтинг турниров](#5.-Рейтинг-турниров)\n",
    "6. [Игроки](#6.-Игроки)\n",
    "  1. [Наивный рейтинг](#Наивный-рейтинг)\n",
    "  2. [Рейтинг с отсечкой](#Рейтинг-с-отсечкой)\n",
    "  3. [Софт-рейтинг модель](#Софт-рейтинг-модель)\n",
    "7. [Динамические-рейтинги](#7.-Динамические-рейтинги)\n",
    "  1. [Обучение на всех данных](#Обучение-на-всех-данных)\n",
    "  1. [Скользящий рейтинг](#Скользящий-рейтинг)\n",
    "  1. [Байесовский рейтинг](#Байесовский-рейтинг)\n",
    "8. [Выводы](#Выводы)"
   ]
  },
  {
   "cell_type": "code",
   "execution_count": 1,
   "metadata": {},
   "outputs": [],
   "source": [
    "import numpy as np\n",
    "import pandas as pd\n",
    "import matplotlib.pyplot as plt\n",
    "from tqdm import tqdm\n",
    "from scipy.stats import beta\n",
    "\n",
    "from utils import load_players, load_tournaments, load_results\n",
    "from utils import mean_correlation_score, top_score\n",
    "from utils import prepare_sparse_data, get_player_questioncount, lr_decay, logloss, sigmoid\n",
    "from utils import CustomLogisticRegression\n",
    "from utils import plot_game_ratings_hist, plot_example"
   ]
  },
  {
   "cell_type": "markdown",
   "metadata": {},
   "source": [
    "## 1. Данные\n",
    "\n",
    "Выбираем турниры, в которых есть данные о составах команд и повопросных результатах.\n",
    "Некорректные данные фильтруем. \n",
    "\n",
    "Тренировочный набор: турниры с dateStart из 2019 года,<br>\n",
    "Тестовый набор: турниры с dateStart из 2020 года.\n",
    "\n",
    "Здесь и далее вынесем вспомогательные функции по загрузке данных, отрисовке и т.п. в скрипт utils.py. В ноутбуке оставим только наиболее важный код исследуемых моделей."
   ]
  },
  {
   "cell_type": "markdown",
   "metadata": {},
   "source": [
    "**Игроки**"
   ]
  },
  {
   "cell_type": "code",
   "execution_count": 2,
   "metadata": {},
   "outputs": [
    {
     "data": {
      "text/html": [
       "<div>\n",
       "<style scoped>\n",
       "    .dataframe tbody tr th:only-of-type {\n",
       "        vertical-align: middle;\n",
       "    }\n",
       "\n",
       "    .dataframe tbody tr th {\n",
       "        vertical-align: top;\n",
       "    }\n",
       "\n",
       "    .dataframe thead th {\n",
       "        text-align: right;\n",
       "    }\n",
       "</style>\n",
       "<table border=\"1\" class=\"dataframe\">\n",
       "  <thead>\n",
       "    <tr style=\"text-align: right;\">\n",
       "      <th></th>\n",
       "      <th>id</th>\n",
       "      <th>name</th>\n",
       "    </tr>\n",
       "  </thead>\n",
       "  <tbody>\n",
       "    <tr>\n",
       "      <th>0</th>\n",
       "      <td>1</td>\n",
       "      <td>Алексей Абабилов</td>\n",
       "    </tr>\n",
       "    <tr>\n",
       "      <th>1</th>\n",
       "      <td>10</td>\n",
       "      <td>Игорь Абалов</td>\n",
       "    </tr>\n",
       "    <tr>\n",
       "      <th>2</th>\n",
       "      <td>11</td>\n",
       "      <td>Наталья Абалымова</td>\n",
       "    </tr>\n",
       "    <tr>\n",
       "      <th>3</th>\n",
       "      <td>12</td>\n",
       "      <td>Артур Абальян</td>\n",
       "    </tr>\n",
       "    <tr>\n",
       "      <th>4</th>\n",
       "      <td>13</td>\n",
       "      <td>Эрик Абальян</td>\n",
       "    </tr>\n",
       "  </tbody>\n",
       "</table>\n",
       "</div>"
      ],
      "text/plain": [
       "   id               name\n",
       "0   1   Алексей Абабилов\n",
       "1  10       Игорь Абалов\n",
       "2  11  Наталья Абалымова\n",
       "3  12      Артур Абальян\n",
       "4  13       Эрик Абальян"
      ]
     },
     "execution_count": 2,
     "metadata": {},
     "output_type": "execute_result"
    }
   ],
   "source": [
    "players = load_players('data/players.pkl')\n",
    "players.head()"
   ]
  },
  {
   "cell_type": "markdown",
   "metadata": {},
   "source": [
    "**Турниры**"
   ]
  },
  {
   "cell_type": "code",
   "execution_count": 3,
   "metadata": {
    "scrolled": true
   },
   "outputs": [
    {
     "data": {
      "text/html": [
       "<div>\n",
       "<style scoped>\n",
       "    .dataframe tbody tr th:only-of-type {\n",
       "        vertical-align: middle;\n",
       "    }\n",
       "\n",
       "    .dataframe tbody tr th {\n",
       "        vertical-align: top;\n",
       "    }\n",
       "\n",
       "    .dataframe thead th {\n",
       "        text-align: right;\n",
       "    }\n",
       "</style>\n",
       "<table border=\"1\" class=\"dataframe\">\n",
       "  <thead>\n",
       "    <tr style=\"text-align: right;\">\n",
       "      <th></th>\n",
       "      <th>id</th>\n",
       "      <th>name</th>\n",
       "      <th>year</th>\n",
       "      <th>type</th>\n",
       "    </tr>\n",
       "  </thead>\n",
       "  <tbody>\n",
       "    <tr>\n",
       "      <th>0</th>\n",
       "      <td>1</td>\n",
       "      <td>Чемпионат Южного Кавказа</td>\n",
       "      <td>2003</td>\n",
       "      <td>Обычный</td>\n",
       "    </tr>\n",
       "    <tr>\n",
       "      <th>1</th>\n",
       "      <td>2</td>\n",
       "      <td>Летние зори</td>\n",
       "      <td>2003</td>\n",
       "      <td>Обычный</td>\n",
       "    </tr>\n",
       "    <tr>\n",
       "      <th>2</th>\n",
       "      <td>3</td>\n",
       "      <td>Турнир в Ижевске</td>\n",
       "      <td>2003</td>\n",
       "      <td>Обычный</td>\n",
       "    </tr>\n",
       "    <tr>\n",
       "      <th>3</th>\n",
       "      <td>4</td>\n",
       "      <td>Чемпионат Украины. Переходной этап</td>\n",
       "      <td>2003</td>\n",
       "      <td>Обычный</td>\n",
       "    </tr>\n",
       "    <tr>\n",
       "      <th>4</th>\n",
       "      <td>5</td>\n",
       "      <td>Бостонское чаепитие</td>\n",
       "      <td>2003</td>\n",
       "      <td>Обычный</td>\n",
       "    </tr>\n",
       "  </tbody>\n",
       "</table>\n",
       "</div>"
      ],
      "text/plain": [
       "   id                                name  year     type\n",
       "0   1            Чемпионат Южного Кавказа  2003  Обычный\n",
       "1   2                         Летние зори  2003  Обычный\n",
       "2   3                    Турнир в Ижевске  2003  Обычный\n",
       "3   4  Чемпионат Украины. Переходной этап  2003  Обычный\n",
       "4   5                 Бостонское чаепитие  2003  Обычный"
      ]
     },
     "execution_count": 3,
     "metadata": {},
     "output_type": "execute_result"
    }
   ],
   "source": [
    "tournaments = load_tournaments('data/tournaments.pkl')\n",
    "tournaments.head()"
   ]
  },
  {
   "cell_type": "markdown",
   "metadata": {},
   "source": [
    "**Результаты**"
   ]
  },
  {
   "cell_type": "code",
   "execution_count": 4,
   "metadata": {
    "scrolled": true
   },
   "outputs": [
    {
     "name": "stderr",
     "output_type": "stream",
     "text": [
      "100%|██████████| 5528/5528 [00:07<00:00, 696.02it/s]  \n"
     ]
    },
    {
     "data": {
      "text/html": [
       "<div>\n",
       "<style scoped>\n",
       "    .dataframe tbody tr th:only-of-type {\n",
       "        vertical-align: middle;\n",
       "    }\n",
       "\n",
       "    .dataframe tbody tr th {\n",
       "        vertical-align: top;\n",
       "    }\n",
       "\n",
       "    .dataframe thead th {\n",
       "        text-align: right;\n",
       "    }\n",
       "</style>\n",
       "<table border=\"1\" class=\"dataframe\">\n",
       "  <thead>\n",
       "    <tr style=\"text-align: right;\">\n",
       "      <th></th>\n",
       "      <th>game_id</th>\n",
       "      <th>team_id</th>\n",
       "      <th>questions</th>\n",
       "      <th>wins</th>\n",
       "      <th>total</th>\n",
       "      <th>position</th>\n",
       "      <th>members</th>\n",
       "      <th>num_players</th>\n",
       "      <th>year</th>\n",
       "    </tr>\n",
       "  </thead>\n",
       "  <tbody>\n",
       "    <tr>\n",
       "      <th>306674</th>\n",
       "      <td>6456</td>\n",
       "      <td>55612</td>\n",
       "      <td>[1, 0, 0, 1, 1, 0, 0, 0, 1, 1, 0, 0, 1, 1, 1, ...</td>\n",
       "      <td>20</td>\n",
       "      <td>39</td>\n",
       "      <td>3.0</td>\n",
       "      <td>[138479, 80384, 133207, 95145, 121594, 133209]</td>\n",
       "      <td>6</td>\n",
       "      <td>2020</td>\n",
       "    </tr>\n",
       "    <tr>\n",
       "      <th>306675</th>\n",
       "      <td>6456</td>\n",
       "      <td>68457</td>\n",
       "      <td>[1, 0, 0, 1, 1, 0, 1, 0, 1, 1, 0, 0, 0, 0, 1, ...</td>\n",
       "      <td>19</td>\n",
       "      <td>39</td>\n",
       "      <td>4.5</td>\n",
       "      <td>[64129]</td>\n",
       "      <td>1</td>\n",
       "      <td>2020</td>\n",
       "    </tr>\n",
       "    <tr>\n",
       "      <th>306676</th>\n",
       "      <td>6456</td>\n",
       "      <td>43261</td>\n",
       "      <td>[0, 0, 0, 0, 0, 1, 1, 1, 1, 1, 0, 0, 1, 1, 1, ...</td>\n",
       "      <td>19</td>\n",
       "      <td>39</td>\n",
       "      <td>4.5</td>\n",
       "      <td>[111255, 166584, 135103, 103290, 103293]</td>\n",
       "      <td>5</td>\n",
       "      <td>2020</td>\n",
       "    </tr>\n",
       "    <tr>\n",
       "      <th>306677</th>\n",
       "      <td>6456</td>\n",
       "      <td>69918</td>\n",
       "      <td>[1, 0, 0, 1, 0, 1, 1, 0, 1, 1, 0, 0, 1, 0, 0, ...</td>\n",
       "      <td>16</td>\n",
       "      <td>39</td>\n",
       "      <td>6.0</td>\n",
       "      <td>[96552, 192899, 192900, 123238, 129706, 192901]</td>\n",
       "      <td>6</td>\n",
       "      <td>2020</td>\n",
       "    </tr>\n",
       "    <tr>\n",
       "      <th>306678</th>\n",
       "      <td>6456</td>\n",
       "      <td>63129</td>\n",
       "      <td>[1, 0, 1, 0, 0, 0, 1, 0, 0, 1, 1, 0, 0, 0, 0, ...</td>\n",
       "      <td>13</td>\n",
       "      <td>39</td>\n",
       "      <td>7.0</td>\n",
       "      <td>[165962, 154624, 224329]</td>\n",
       "      <td>3</td>\n",
       "      <td>2020</td>\n",
       "    </tr>\n",
       "  </tbody>\n",
       "</table>\n",
       "</div>"
      ],
      "text/plain": [
       "        game_id  team_id                                          questions  \\\n",
       "306674     6456    55612  [1, 0, 0, 1, 1, 0, 0, 0, 1, 1, 0, 0, 1, 1, 1, ...   \n",
       "306675     6456    68457  [1, 0, 0, 1, 1, 0, 1, 0, 1, 1, 0, 0, 0, 0, 1, ...   \n",
       "306676     6456    43261  [0, 0, 0, 0, 0, 1, 1, 1, 1, 1, 0, 0, 1, 1, 1, ...   \n",
       "306677     6456    69918  [1, 0, 0, 1, 0, 1, 1, 0, 1, 1, 0, 0, 1, 0, 0, ...   \n",
       "306678     6456    63129  [1, 0, 1, 0, 0, 0, 1, 0, 0, 1, 1, 0, 0, 0, 0, ...   \n",
       "\n",
       "        wins  total  position  \\\n",
       "306674    20     39       3.0   \n",
       "306675    19     39       4.5   \n",
       "306676    19     39       4.5   \n",
       "306677    16     39       6.0   \n",
       "306678    13     39       7.0   \n",
       "\n",
       "                                                members  num_players  year  \n",
       "306674   [138479, 80384, 133207, 95145, 121594, 133209]            6  2020  \n",
       "306675                                          [64129]            1  2020  \n",
       "306676         [111255, 166584, 135103, 103290, 103293]            5  2020  \n",
       "306677  [96552, 192899, 192900, 123238, 129706, 192901]            6  2020  \n",
       "306678                         [165962, 154624, 224329]            3  2020  "
      ]
     },
     "execution_count": 4,
     "metadata": {},
     "output_type": "execute_result"
    }
   ],
   "source": [
    "team_results = load_results('data/results.pkl', tournaments)\n",
    "team_results.tail()"
   ]
  },
  {
   "cell_type": "code",
   "execution_count": 5,
   "metadata": {},
   "outputs": [],
   "source": [
    "train_results = team_results[team_results['year'] == 2019]\n",
    "test_results  = team_results[team_results['year'] == 2020]"
   ]
  },
  {
   "cell_type": "markdown",
   "metadata": {},
   "source": [
    "## 2. Ранжирование\n",
    "\n",
    "Ранжирование команд сделаем по **простому принципу**: рейтинг команды = сумме рейтингов отдельных ее игроков.<br>\n",
    "Метрики возмем, какие указаны в задании - Спирмена и Кендалла. Они хорошо ловят монотонные зависимости - именно то, что нам нужно для сравнения рейтинговых систем.\n",
    "\n",
    "Функции метрик также можно найти в utils.py"
   ]
  },
  {
   "cell_type": "markdown",
   "metadata": {},
   "source": [
    "## 3. Бейзлайн\n",
    "\n",
    "Сделаем ради интереса целых два бейзлайна.\n",
    "\n",
    "Не смог отказать себе в искушении и наряду с логрегрессией предложить модель, которая будет еще проще - вообще без ML :)."
   ]
  },
  {
   "cell_type": "markdown",
   "metadata": {},
   "source": [
    "### 1. Очень простая модель\n",
    "\n",
    "Обучение:\n",
    "- Рейтинг вопроса на турнире = доля ошибившихся в нем команд.\n",
    "- Рейтинг команды на турнире = сумма рейтингов вопросов, на которые команда ответила верно.\n",
    "- Рейтинг игрока = средний рейтинг команд, в которых он играл.\n",
    "  \n",
    "Инференс:\n",
    "- Рейтинг команды = сумма рейтингов ее игроков."
   ]
  },
  {
   "cell_type": "code",
   "execution_count": 6,
   "metadata": {
    "scrolled": false
   },
   "outputs": [],
   "source": [
    "class SimpleModel:\n",
    "    def __init__(self):\n",
    "        self.player_ratings = None\n",
    "\n",
    "    def fit(self, data):\n",
    "        team_results = data[['game_id', 'questions', 'members']].copy()\n",
    "        team_results['team_rating'] = team_results.groupby('game_id')\\\n",
    "                                                  .apply(self._get_team_ratings)\\\n",
    "                                                  .explode()\\\n",
    "                                                  .values.astype(float)\n",
    "        player_results = team_results.explode('members').rename({'members': 'player_id'}, axis=1)\n",
    "        player_ratings = player_results.groupby('player_id').agg({'team_rating': 'mean'}).reset_index()\n",
    "        player_ratings.rename({'team_rating': 'player_rating'}, axis=1, inplace=True)\n",
    "\n",
    "        self.player_ratings = player_ratings\n",
    "\n",
    "    def predict(self, data):\n",
    "        result = data[['game_id', 'team_id', 'members']].explode('members')\\\n",
    "                                                        .rename({'members': 'player_id'}, axis=1)\n",
    "        result = result.merge(self.player_ratings, on='player_id')\n",
    "        result = result.groupby(['game_id', 'team_id'])['player_rating'].sum().reset_index()\n",
    "        result.columns = ['game_id', 'team_id', 'team_rating']\n",
    "        return result\n",
    "    \n",
    "    @staticmethod\n",
    "    def _get_team_ratings(g):\n",
    "        questions_mask = np.array(list(g['questions'].values))\n",
    "        questions_ratings = 1 - questions_mask.mean(axis=0)\n",
    "        team_ratings = (questions_mask * questions_ratings).sum(axis=1)\n",
    "        return team_ratings"
   ]
  },
  {
   "cell_type": "code",
   "execution_count": 7,
   "metadata": {
    "scrolled": true
   },
   "outputs": [],
   "source": [
    "model = SimpleModel()\n",
    "model.fit(train_results)\n",
    "pred_results = model.predict(test_results)"
   ]
  },
  {
   "cell_type": "code",
   "execution_count": 8,
   "metadata": {
    "scrolled": true
   },
   "outputs": [
    {
     "data": {
      "text/plain": [
       "{'spearman': 0.696, 'kendall': 0.541}"
      ]
     },
     "execution_count": 8,
     "metadata": {},
     "output_type": "execute_result"
    }
   ],
   "source": [
    "mean_correlation_score(test_results, pred_results)"
   ]
  },
  {
   "cell_type": "markdown",
   "metadata": {},
   "source": [
    "Не так уж и плохо для такой простой модели. Метрики вполне укладываются в рекомендованные в задании диапазоны."
   ]
  },
  {
   "cell_type": "markdown",
   "metadata": {},
   "source": [
    "### 2. Логрегрессия\n",
    "\n",
    "OHE для игроков и вопросов + Логрегрессия.\n",
    "\n",
    "Имея ввиду следующее задание с EM алгоритмом сразу будем обучать модель не библиотечной логрегрессией, а кастомной (тоже в utils.py)."
   ]
  },
  {
   "cell_type": "code",
   "execution_count": 9,
   "metadata": {
    "scrolled": true
   },
   "outputs": [],
   "source": [
    "class LinearModel:\n",
    "    def __init__(self, **kwargs):\n",
    "        self.core = CustomLogisticRegression(**kwargs)\n",
    "        self.player_ratings = None\n",
    "        self.question_rating = None\n",
    "\n",
    "    def fit(self, data, weights=None):\n",
    "        print('prepare sparse data...')\n",
    "        X, y, teams, players, player_inv_map, question_inv_map = prepare_sparse_data(data)\n",
    "        if weights is not None:\n",
    "            player_weights = pd.DataFrame({'player_id': players})\n",
    "            player_weights = player_weights.merge(weights, on='player_id', how='left')\n",
    "            weights = player_weights['weight'].fillna(0.0).values\n",
    "        \n",
    "        print(f'data: {X.shape}.\\nfit logictic regression...')\n",
    "        self.core.fit(X, y, weights)\n",
    "\n",
    "        print('save model params...')\n",
    "        n_players = len(player_inv_map)\n",
    "        n_questions = len(question_inv_map)  \n",
    "        theta = self.core.coef_[1:]\n",
    "        \n",
    "        self.player_ratings = pd.DataFrame({\n",
    "            'player_id': [player_inv_map[i] for i in range(n_players)], \n",
    "            'player_rating': theta[:n_players]})\n",
    "        self.question_ratings = pd.DataFrame({\n",
    "            'question_id': [question_inv_map[i + n_players] for i in range(n_questions)], \n",
    "            'question_rating': theta[n_players:]})\n",
    "        assert len(self.question_ratings) == n_questions\n",
    "        \n",
    "        print('done!')\n",
    "    \n",
    "    def predict(self, data):\n",
    "        result = data[['game_id', 'team_id', 'members']].explode('members')\\\n",
    "                                                        .rename({'members': 'player_id'}, axis=1)\n",
    "        result = result.merge(self.player_ratings, on='player_id', how='left')\n",
    "        result = result.groupby(['game_id', 'team_id'])['player_rating'].sum().reset_index()\n",
    "        result.columns = ['game_id', 'team_id', 'team_rating']\n",
    "        return result"
   ]
  },
  {
   "cell_type": "code",
   "execution_count": 10,
   "metadata": {},
   "outputs": [
    {
     "name": "stdout",
     "output_type": "stream",
     "text": [
      "prepare sparse data...\n",
      "data: (13787815, 83581).\n",
      "fit logictic regression...\n"
     ]
    },
    {
     "name": "stderr",
     "output_type": "stream",
     "text": [
      "100%|██████████| 100000/100000 [17:56<00:00, 92.86it/s]\n"
     ]
    },
    {
     "name": "stdout",
     "output_type": "stream",
     "text": [
      "save model params...\n",
      "done!\n"
     ]
    }
   ],
   "source": [
    "model = LinearModel(lr=15.0, num_iter=100000, batch_size=1000)\n",
    "model.fit(train_results)"
   ]
  },
  {
   "cell_type": "code",
   "execution_count": 11,
   "metadata": {},
   "outputs": [],
   "source": [
    "pred_results = model.predict(test_results)"
   ]
  },
  {
   "cell_type": "code",
   "execution_count": 12,
   "metadata": {},
   "outputs": [
    {
     "data": {
      "text/plain": [
       "{'spearman': 0.754, 'kendall': 0.597}"
      ]
     },
     "execution_count": 12,
     "metadata": {},
     "output_type": "execute_result"
    }
   ],
   "source": [
    "mean_correlation_score(test_results, pred_results)"
   ]
  },
  {
   "cell_type": "markdown",
   "metadata": {},
   "source": [
    "Метрики неплохо выросли."
   ]
  },
  {
   "cell_type": "markdown",
   "metadata": {},
   "source": [
    "## 4. EM-алгоритм\n",
    "\n",
    "Вероятностная модель с EM-обучением (подсмотрел в вашей статье).\n",
    "\n",
    "Если бы игроки не переходили между командами, то способа узнать рейтинг каждого игрока в отдельности в принципе не существовало бы. Значит нужно учесть, в какой команде играет игрок. \n",
    "\n",
    "**Модель**\n",
    "\n",
    "Пусть $p, q, t$ - индексы игроков, вопросов и команд соотвественно. Положим $x_{tq}$ - ответ команды $t$ на вопрос $q$ (значения - 0 или 1) - наблюдаемые переменные. Пусть далее $z_{pq}$ - ответ игрока $p$ на вопрос $q$ (значения - 0 или 1) - скрытые переменные. Параметры модели оставит теми же, что и раньше в логрегрессии: $\\theta = (w_0, w, \\tau)$ - один на всех bias $w_0$, вектор коэффициентов регрессии для игроков $w$ и вектор коэффициентов регрессии для вопросов $\\tau$.\n",
    "\n",
    "Чтобы введение скрытых переменных упрощало задачу, сделаем следующее **предположение**:\n",
    "команда верно ответила тогда и только тогда, когда хотя бы один игрок верно ответил: \n",
    "\n",
    "$$\n",
    "p(x_{tq} = 1 | z_{pq} = 1) = 1,\n",
    "$$\n",
    "\n",
    "$$\n",
    "p(x_{tq} = 0 | z_{pq} = 1) = 0,\n",
    "$$\n",
    "\n",
    "$$\n",
    "p(x_{tq} = 0) = \\prod_{p\\in t} p(z_{pq} = 0).\n",
    "$$\n",
    "\n",
    "**EM-алгоритм**\n",
    "\n",
    "Согласно классическому формализму обучения вероятностных моделей задача максимизации правдоподобия\n",
    "\n",
    "$$\n",
    "p(x|\\theta) = \\sum_z p(x|z,\\theta)p(z|\\theta),\n",
    "$$\n",
    "\n",
    "$$\n",
    "\\log \\prod_x p(x|\\theta) = \\sum_x\\log\\sum_zp(x|z,\\theta)p(z|\\theta) \\rightarrow max_\\theta\n",
    "$$\n",
    "\n",
    "решается заданием начального приближения для параметров $\\theta_0$ и итерированием пары шагов:\n",
    "\n",
    "1. **E-шаг** - решается в явном виде. Надо вычислить распределение скрытых переменных при условии наблюдаемых и текущего значения параметров $p(z|x,\\theta_n)$. В нашем случае\n",
    "\n",
    "$$\n",
    "p(z_{pq}|x_{tq},\\theta_n) = \\frac{p(x_{tq}|z_{pq},\\theta_n)p(z_{pq}|\\theta)}{p(x_{tq}|\\theta)},\n",
    "$$\n",
    "\n",
    "$$\n",
    "p(z_{pq}=1|x_{tq}=0,\\theta_n) = 0, \n",
    "$$\n",
    "\n",
    "$$\n",
    "p(z_{pq}=1|x_{tq}=1,\\theta_n) = \\frac{p(z_{pq} = 1|\\theta)}{p(x_{tq} = 1|\\theta)} = \\frac{p(z_{pq}=1|\\theta)}{1 - p(x_{tq} = 0|\\theta)} = \\frac{p(z_{pq}=1|\\theta)}{1 - \\prod_{s\\in t} (1 - p(z_{sq} = 1|\\theta)} = \n",
    "\\frac{\\sigma(w_0 + w_p + \\tau_q)}{1 - \\prod_{s\\in t} (1 - \\sigma(w_0 + w_s + \\tau_q))}.\n",
    "$$\n",
    "\n",
    "2. **M-шаг** - выписываем правдоподобие и максимизируем его, рассматривая наденные выше оценки вероятностей как целевые метки для логрегрессии. Это оказывается эквивалентным обучению логрегрессии с подкорректированными метками."
   ]
  },
  {
   "cell_type": "code",
   "execution_count": 13,
   "metadata": {},
   "outputs": [],
   "source": [
    "class ExpectationMaximizationModel:\n",
    "    def __init__(self, n_iters=10, **kwargs):\n",
    "        self.core = CustomLogisticRegression(**kwargs)\n",
    "        self.n_iters = n_iters\n",
    "        self.player_ratings = None\n",
    "        self.question_ratings = None\n",
    "\n",
    "    def fit(self, train, valid):\n",
    "        print('prepare sparse data...')\n",
    "        X, y, teams, players, player_inv_map, question_inv_map = prepare_sparse_data(train)\n",
    "        print(f'data: {X.shape}')\n",
    "        prob_z = y\n",
    "        \n",
    "        for i in range(self.n_iters):\n",
    "            print(f'---------- ITERATION #{i+1}/{self.n_iters} ----------')\n",
    "            prob_z = self.e_step(X, y, prob_z, teams)\n",
    "            self.m_step(prob_z, X, prob_z, player_inv_map, question_inv_map)\n",
    "            self.validate(valid)\n",
    "        \n",
    "        print('done!')\n",
    "        \n",
    "    def e_step(self, X, y, prob_z, teams):\n",
    "        if self.core.coef_ is None:\n",
    "            return prob_z\n",
    "        \n",
    "        y_pred = pd.DataFrame({'team_id': teams, 'pred': self.core.predict_proba(X)})\n",
    "        y_pred['sigm'] = sigmoid(y_pred['pred'].values)\n",
    "        y_pred['neg_sigm'] = 1 - y_pred['sigm']\n",
    "        y_pred['team_neg_sigm'] = y_pred.groupby('team_id') \\\n",
    "                                        .apply(lambda g: [g['neg_sigm'].prod()]*len(g)) \\\n",
    "                                        .reset_index() \\\n",
    "                                        .explode(0)[0].values\n",
    "        y_pred['pred'] = y_pred['sigm'] / (1 - y_pred['team_neg_sigm'])\n",
    "        y_pred.loc[y==0, 'pred'] = 0\n",
    "        prob_z = y_pred['pred'].values.astype(float)\n",
    "        \n",
    "        del y_pred\n",
    "                \n",
    "        return prob_z\n",
    "\n",
    "    def m_step(self, theta, X, y, player_inv_map, question_inv_map):\n",
    "        print(f'fit logictic regression...')\n",
    "        self.core.fit(X, y)\n",
    "\n",
    "        print('save model params...')\n",
    "        n_players = len(player_inv_map)\n",
    "        n_questions = len(question_inv_map)  \n",
    "        theta = self.core.coef_[1:]\n",
    "        \n",
    "        self.player_ratings = pd.DataFrame({\n",
    "            'player_id': [player_inv_map[i] for i in range(n_players)], \n",
    "            'player_rating': theta[:n_players]})\n",
    "        self.question_ratings = pd.DataFrame({\n",
    "            'question_id': [question_inv_map[i + n_players] for i in range(n_questions)], \n",
    "            'question_rating': theta[n_players:]})\n",
    "        assert len(self.question_ratings) == n_questions\n",
    "        \n",
    "    def validate(self, valid):\n",
    "        pred_results = self.predict(valid)\n",
    "        scores = mean_correlation_score(valid, pred_results)\n",
    "        print('>>> scores:', scores)\n",
    "\n",
    "    def predict(self, data):\n",
    "        result = data[['game_id', 'team_id', 'members']].explode('members')\\\n",
    "                                                        .rename({'members': 'player_id'}, axis=1)\n",
    "        result = result.merge(self.player_ratings, on='player_id', how='left')\n",
    "        result = result.groupby(['game_id', 'team_id'])['player_rating'].sum().reset_index()\n",
    "        result.columns = ['game_id', 'team_id', 'team_rating']\n",
    "        return result"
   ]
  },
  {
   "cell_type": "code",
   "execution_count": 14,
   "metadata": {
    "scrolled": true
   },
   "outputs": [
    {
     "name": "stdout",
     "output_type": "stream",
     "text": [
      "prepare sparse data...\n",
      "data: (13787815, 83581)\n",
      "---------- ITERATION #1/10 ----------\n",
      "fit logictic regression...\n"
     ]
    },
    {
     "name": "stderr",
     "output_type": "stream",
     "text": [
      "100%|██████████| 40000/40000 [07:27<00:00, 89.42it/s]\n"
     ]
    },
    {
     "name": "stdout",
     "output_type": "stream",
     "text": [
      "save model params...\n",
      ">>> scores: {'spearman': 0.737, 'kendall': 0.579}\n",
      "---------- ITERATION #2/10 ----------\n",
      "fit logictic regression...\n"
     ]
    },
    {
     "name": "stderr",
     "output_type": "stream",
     "text": [
      "100%|██████████| 40000/40000 [06:50<00:00, 97.49it/s] \n"
     ]
    },
    {
     "name": "stdout",
     "output_type": "stream",
     "text": [
      "save model params...\n",
      ">>> scores: {'spearman': 0.756, 'kendall': 0.597}\n",
      "---------- ITERATION #3/10 ----------\n",
      "fit logictic regression...\n"
     ]
    },
    {
     "name": "stderr",
     "output_type": "stream",
     "text": [
      "100%|██████████| 40000/40000 [06:08<00:00, 108.41it/s]\n"
     ]
    },
    {
     "name": "stdout",
     "output_type": "stream",
     "text": [
      "save model params...\n",
      ">>> scores: {'spearman': 0.76, 'kendall': 0.602}\n",
      "---------- ITERATION #4/10 ----------\n",
      "fit logictic regression...\n"
     ]
    },
    {
     "name": "stderr",
     "output_type": "stream",
     "text": [
      "100%|██████████| 40000/40000 [07:02<00:00, 94.72it/s]\n"
     ]
    },
    {
     "name": "stdout",
     "output_type": "stream",
     "text": [
      "save model params...\n",
      ">>> scores: {'spearman': 0.763, 'kendall': 0.605}\n",
      "---------- ITERATION #5/10 ----------\n",
      "fit logictic regression...\n"
     ]
    },
    {
     "name": "stderr",
     "output_type": "stream",
     "text": [
      "100%|██████████| 40000/40000 [06:59<00:00, 95.44it/s]\n"
     ]
    },
    {
     "name": "stdout",
     "output_type": "stream",
     "text": [
      "save model params...\n",
      ">>> scores: {'spearman': 0.766, 'kendall': 0.607}\n",
      "---------- ITERATION #6/10 ----------\n",
      "fit logictic regression...\n"
     ]
    },
    {
     "name": "stderr",
     "output_type": "stream",
     "text": [
      "100%|██████████| 40000/40000 [06:58<00:00, 95.47it/s]\n"
     ]
    },
    {
     "name": "stdout",
     "output_type": "stream",
     "text": [
      "save model params...\n",
      ">>> scores: {'spearman': 0.764, 'kendall': 0.607}\n",
      "---------- ITERATION #7/10 ----------\n",
      "fit logictic regression...\n"
     ]
    },
    {
     "name": "stderr",
     "output_type": "stream",
     "text": [
      "100%|██████████| 40000/40000 [06:59<00:00, 95.43it/s]\n"
     ]
    },
    {
     "name": "stdout",
     "output_type": "stream",
     "text": [
      "save model params...\n",
      ">>> scores: {'spearman': 0.765, 'kendall': 0.608}\n",
      "---------- ITERATION #8/10 ----------\n",
      "fit logictic regression...\n"
     ]
    },
    {
     "name": "stderr",
     "output_type": "stream",
     "text": [
      "100%|██████████| 40000/40000 [06:55<00:00, 96.29it/s]\n"
     ]
    },
    {
     "name": "stdout",
     "output_type": "stream",
     "text": [
      "save model params...\n",
      ">>> scores: {'spearman': 0.763, 'kendall': 0.604}\n",
      "---------- ITERATION #9/10 ----------\n",
      "fit logictic regression...\n"
     ]
    },
    {
     "name": "stderr",
     "output_type": "stream",
     "text": [
      "100%|██████████| 40000/40000 [06:53<00:00, 96.65it/s]\n"
     ]
    },
    {
     "name": "stdout",
     "output_type": "stream",
     "text": [
      "save model params...\n",
      ">>> scores: {'spearman': 0.763, 'kendall': 0.605}\n",
      "---------- ITERATION #10/10 ----------\n",
      "fit logictic regression...\n"
     ]
    },
    {
     "name": "stderr",
     "output_type": "stream",
     "text": [
      "100%|██████████| 40000/40000 [06:52<00:00, 96.89it/s]\n"
     ]
    },
    {
     "name": "stdout",
     "output_type": "stream",
     "text": [
      "save model params...\n",
      ">>> scores: {'spearman': 0.763, 'kendall': 0.605}\n",
      "done!\n"
     ]
    }
   ],
   "source": [
    "model = ExpectationMaximizationModel(n_iters=10, lr=15.0, num_iter=40000, batch_size=1000)\n",
    "model.fit(train_results, test_results)"
   ]
  },
  {
   "cell_type": "markdown",
   "metadata": {},
   "source": [
    "Действительно, метрики немного растут от шага к шагу алгоритма."
   ]
  },
  {
   "cell_type": "markdown",
   "metadata": {},
   "source": [
    "## 5. Рейтинг турниров\n",
    "\n",
    "Используем лучшую итерацию EM-алгоритма (последнюю) для построения рейтинга турниров по вопросам.<br>\n",
    "Положим рейтинг турнира равным минус среднему рейтингу его вопросов. Итого - чем сложнее турнир, тем выше это значение."
   ]
  },
  {
   "cell_type": "code",
   "execution_count": 15,
   "metadata": {
    "scrolled": true
   },
   "outputs": [],
   "source": [
    "question_ratings = model.question_ratings.copy()\n",
    "question_ratings['game_id'] = question_ratings['question_id'].apply(lambda q: q // 1000)\n",
    "question_ratings['question_id'] = question_ratings['question_id'] - 1000*question_ratings['game_id']\n",
    "game_ratings = question_ratings.groupby('game_id')['question_rating'].mean().reset_index()\n",
    "game_ratings.columns = ['game_id', 'game_rating']\n",
    "game_ratings['game_rating'] = -game_ratings['game_rating']\n",
    "game_ratings = game_ratings.merge(tournaments, left_on='game_id', right_on='id')\n",
    "game_ratings.sort_values('game_rating', inplace=True)"
   ]
  },
  {
   "cell_type": "code",
   "execution_count": 16,
   "metadata": {},
   "outputs": [
    {
     "data": {
      "text/html": [
       "<div>\n",
       "<style scoped>\n",
       "    .dataframe tbody tr th:only-of-type {\n",
       "        vertical-align: middle;\n",
       "    }\n",
       "\n",
       "    .dataframe tbody tr th {\n",
       "        vertical-align: top;\n",
       "    }\n",
       "\n",
       "    .dataframe thead th {\n",
       "        text-align: right;\n",
       "    }\n",
       "</style>\n",
       "<table border=\"1\" class=\"dataframe\">\n",
       "  <thead>\n",
       "    <tr style=\"text-align: right;\">\n",
       "      <th></th>\n",
       "      <th>game_id</th>\n",
       "      <th>game_rating</th>\n",
       "      <th>id</th>\n",
       "      <th>name</th>\n",
       "      <th>year</th>\n",
       "      <th>type</th>\n",
       "    </tr>\n",
       "  </thead>\n",
       "  <tbody>\n",
       "    <tr>\n",
       "      <th>10</th>\n",
       "      <td>5013</td>\n",
       "      <td>-1.688772</td>\n",
       "      <td>5013</td>\n",
       "      <td>(а)Синхрон-lite. Лига старта. Эпизод V</td>\n",
       "      <td>2019</td>\n",
       "      <td>Асинхрон</td>\n",
       "    </tr>\n",
       "    <tr>\n",
       "      <th>6</th>\n",
       "      <td>5009</td>\n",
       "      <td>-1.586155</td>\n",
       "      <td>5009</td>\n",
       "      <td>(а)Синхрон-lite. Лига старта. Эпизод III</td>\n",
       "      <td>2019</td>\n",
       "      <td>Асинхрон</td>\n",
       "    </tr>\n",
       "    <tr>\n",
       "      <th>342</th>\n",
       "      <td>5698</td>\n",
       "      <td>-1.510042</td>\n",
       "      <td>5698</td>\n",
       "      <td>(а)Синхрон-lite. Лига старта. Эпизод VII</td>\n",
       "      <td>2019</td>\n",
       "      <td>Асинхрон</td>\n",
       "    </tr>\n",
       "    <tr>\n",
       "      <th>346</th>\n",
       "      <td>5702</td>\n",
       "      <td>-1.491487</td>\n",
       "      <td>5702</td>\n",
       "      <td>(а)Синхрон-lite. Лига старта. Эпизод IX</td>\n",
       "      <td>2019</td>\n",
       "      <td>Асинхрон</td>\n",
       "    </tr>\n",
       "    <tr>\n",
       "      <th>150</th>\n",
       "      <td>5457</td>\n",
       "      <td>-1.398955</td>\n",
       "      <td>5457</td>\n",
       "      <td>Студенческий чемпионат Калининградской области</td>\n",
       "      <td>2019</td>\n",
       "      <td>Обычный</td>\n",
       "    </tr>\n",
       "    <tr>\n",
       "      <th>8</th>\n",
       "      <td>5011</td>\n",
       "      <td>-1.394480</td>\n",
       "      <td>5011</td>\n",
       "      <td>(а)Синхрон-lite. Лига старта. Эпизод IV</td>\n",
       "      <td>2019</td>\n",
       "      <td>Асинхрон</td>\n",
       "    </tr>\n",
       "    <tr>\n",
       "      <th>348</th>\n",
       "      <td>5706</td>\n",
       "      <td>-1.386773</td>\n",
       "      <td>5706</td>\n",
       "      <td>(а)Синхрон-lite. Лига старта. Эпизод XI</td>\n",
       "      <td>2019</td>\n",
       "      <td>Асинхрон</td>\n",
       "    </tr>\n",
       "    <tr>\n",
       "      <th>347</th>\n",
       "      <td>5704</td>\n",
       "      <td>-1.376901</td>\n",
       "      <td>5704</td>\n",
       "      <td>(а)Синхрон-lite. Лига старта. Эпизод X</td>\n",
       "      <td>2019</td>\n",
       "      <td>Асинхрон</td>\n",
       "    </tr>\n",
       "    <tr>\n",
       "      <th>9</th>\n",
       "      <td>5012</td>\n",
       "      <td>-1.335080</td>\n",
       "      <td>5012</td>\n",
       "      <td>Школьный Синхрон-lite. Выпуск 2.5</td>\n",
       "      <td>2019</td>\n",
       "      <td>Асинхрон</td>\n",
       "    </tr>\n",
       "    <tr>\n",
       "      <th>62</th>\n",
       "      <td>5313</td>\n",
       "      <td>-1.330768</td>\n",
       "      <td>5313</td>\n",
       "      <td>(а)Синхрон-lite. Лига старта. Эпизод VI</td>\n",
       "      <td>2019</td>\n",
       "      <td>Асинхрон</td>\n",
       "    </tr>\n",
       "    <tr>\n",
       "      <th>536</th>\n",
       "      <td>6003</td>\n",
       "      <td>-1.232503</td>\n",
       "      <td>6003</td>\n",
       "      <td>Второй тематический турнир имени Джоуи Триббиани</td>\n",
       "      <td>2019</td>\n",
       "      <td>Асинхрон</td>\n",
       "    </tr>\n",
       "    <tr>\n",
       "      <th>262</th>\n",
       "      <td>5601</td>\n",
       "      <td>-1.221298</td>\n",
       "      <td>5601</td>\n",
       "      <td>Межфакультетский кубок МГУ. Отбор №4</td>\n",
       "      <td>2019</td>\n",
       "      <td>Обычный</td>\n",
       "    </tr>\n",
       "    <tr>\n",
       "      <th>539</th>\n",
       "      <td>6008</td>\n",
       "      <td>-1.192826</td>\n",
       "      <td>6008</td>\n",
       "      <td>Малый кубок Физтеха</td>\n",
       "      <td>2019</td>\n",
       "      <td>Обычный</td>\n",
       "    </tr>\n",
       "    <tr>\n",
       "      <th>438</th>\n",
       "      <td>5855</td>\n",
       "      <td>-1.185387</td>\n",
       "      <td>5855</td>\n",
       "      <td>Лига вузов. IV тур</td>\n",
       "      <td>2019</td>\n",
       "      <td>Синхрон</td>\n",
       "    </tr>\n",
       "    <tr>\n",
       "      <th>195</th>\n",
       "      <td>5511</td>\n",
       "      <td>-1.158911</td>\n",
       "      <td>5511</td>\n",
       "      <td>KFC</td>\n",
       "      <td>2019</td>\n",
       "      <td>Синхрон</td>\n",
       "    </tr>\n",
       "    <tr>\n",
       "      <th>359</th>\n",
       "      <td>5729</td>\n",
       "      <td>-1.122397</td>\n",
       "      <td>5729</td>\n",
       "      <td>Синхрон-lite. Выпуск XXX</td>\n",
       "      <td>2019</td>\n",
       "      <td>Синхрон</td>\n",
       "    </tr>\n",
       "    <tr>\n",
       "      <th>33</th>\n",
       "      <td>5130</td>\n",
       "      <td>-1.111484</td>\n",
       "      <td>5130</td>\n",
       "      <td>Лига Сибири. VI тур.</td>\n",
       "      <td>2019</td>\n",
       "      <td>Синхрон</td>\n",
       "    </tr>\n",
       "    <tr>\n",
       "      <th>5</th>\n",
       "      <td>5008</td>\n",
       "      <td>-1.109360</td>\n",
       "      <td>5008</td>\n",
       "      <td>Школьный Синхрон-lite. Выпуск 2.3</td>\n",
       "      <td>2019</td>\n",
       "      <td>Асинхрон</td>\n",
       "    </tr>\n",
       "    <tr>\n",
       "      <th>487</th>\n",
       "      <td>5936</td>\n",
       "      <td>-1.108542</td>\n",
       "      <td>5936</td>\n",
       "      <td>Школьная лига. I тур.</td>\n",
       "      <td>2019</td>\n",
       "      <td>Асинхрон</td>\n",
       "    </tr>\n",
       "    <tr>\n",
       "      <th>98</th>\n",
       "      <td>5388</td>\n",
       "      <td>-1.101819</td>\n",
       "      <td>5388</td>\n",
       "      <td>Олимпиада Приволжского федерального округа. Финал</td>\n",
       "      <td>2019</td>\n",
       "      <td>Обычный</td>\n",
       "    </tr>\n",
       "    <tr>\n",
       "      <th>528</th>\n",
       "      <td>5991</td>\n",
       "      <td>-1.076741</td>\n",
       "      <td>5991</td>\n",
       "      <td>Joystick Cup</td>\n",
       "      <td>2019</td>\n",
       "      <td>Асинхрон</td>\n",
       "    </tr>\n",
       "    <tr>\n",
       "      <th>173</th>\n",
       "      <td>5486</td>\n",
       "      <td>-1.066489</td>\n",
       "      <td>5486</td>\n",
       "      <td>Маленькае люстэрка</td>\n",
       "      <td>2019</td>\n",
       "      <td>Синхрон</td>\n",
       "    </tr>\n",
       "    <tr>\n",
       "      <th>504</th>\n",
       "      <td>5955</td>\n",
       "      <td>-1.044731</td>\n",
       "      <td>5955</td>\n",
       "      <td>Школьная лига. III тур.</td>\n",
       "      <td>2019</td>\n",
       "      <td>Асинхрон</td>\n",
       "    </tr>\n",
       "    <tr>\n",
       "      <th>437</th>\n",
       "      <td>5854</td>\n",
       "      <td>-1.041136</td>\n",
       "      <td>5854</td>\n",
       "      <td>Лига вузов. III тур</td>\n",
       "      <td>2019</td>\n",
       "      <td>Синхрон</td>\n",
       "    </tr>\n",
       "    <tr>\n",
       "      <th>31</th>\n",
       "      <td>5128</td>\n",
       "      <td>-1.032216</td>\n",
       "      <td>5128</td>\n",
       "      <td>Лига Сибири. IV тур.</td>\n",
       "      <td>2019</td>\n",
       "      <td>Синхрон</td>\n",
       "    </tr>\n",
       "  </tbody>\n",
       "</table>\n",
       "</div>"
      ],
      "text/plain": [
       "     game_id  game_rating    id  \\\n",
       "10      5013    -1.688772  5013   \n",
       "6       5009    -1.586155  5009   \n",
       "342     5698    -1.510042  5698   \n",
       "346     5702    -1.491487  5702   \n",
       "150     5457    -1.398955  5457   \n",
       "8       5011    -1.394480  5011   \n",
       "348     5706    -1.386773  5706   \n",
       "347     5704    -1.376901  5704   \n",
       "9       5012    -1.335080  5012   \n",
       "62      5313    -1.330768  5313   \n",
       "536     6003    -1.232503  6003   \n",
       "262     5601    -1.221298  5601   \n",
       "539     6008    -1.192826  6008   \n",
       "438     5855    -1.185387  5855   \n",
       "195     5511    -1.158911  5511   \n",
       "359     5729    -1.122397  5729   \n",
       "33      5130    -1.111484  5130   \n",
       "5       5008    -1.109360  5008   \n",
       "487     5936    -1.108542  5936   \n",
       "98      5388    -1.101819  5388   \n",
       "528     5991    -1.076741  5991   \n",
       "173     5486    -1.066489  5486   \n",
       "504     5955    -1.044731  5955   \n",
       "437     5854    -1.041136  5854   \n",
       "31      5128    -1.032216  5128   \n",
       "\n",
       "                                                  name  year      type  \n",
       "10              (а)Синхрон-lite. Лига старта. Эпизод V  2019  Асинхрон  \n",
       "6             (а)Синхрон-lite. Лига старта. Эпизод III  2019  Асинхрон  \n",
       "342           (а)Синхрон-lite. Лига старта. Эпизод VII  2019  Асинхрон  \n",
       "346            (а)Синхрон-lite. Лига старта. Эпизод IX  2019  Асинхрон  \n",
       "150     Студенческий чемпионат Калининградской области  2019   Обычный  \n",
       "8              (а)Синхрон-lite. Лига старта. Эпизод IV  2019  Асинхрон  \n",
       "348            (а)Синхрон-lite. Лига старта. Эпизод XI  2019  Асинхрон  \n",
       "347             (а)Синхрон-lite. Лига старта. Эпизод X  2019  Асинхрон  \n",
       "9                    Школьный Синхрон-lite. Выпуск 2.5  2019  Асинхрон  \n",
       "62             (а)Синхрон-lite. Лига старта. Эпизод VI  2019  Асинхрон  \n",
       "536   Второй тематический турнир имени Джоуи Триббиани  2019  Асинхрон  \n",
       "262               Межфакультетский кубок МГУ. Отбор №4  2019   Обычный  \n",
       "539                                Малый кубок Физтеха  2019   Обычный  \n",
       "438                                 Лига вузов. IV тур  2019   Синхрон  \n",
       "195                                                KFC  2019   Синхрон  \n",
       "359                           Синхрон-lite. Выпуск XXX  2019   Синхрон  \n",
       "33                                Лига Сибири. VI тур.  2019   Синхрон  \n",
       "5                    Школьный Синхрон-lite. Выпуск 2.3  2019  Асинхрон  \n",
       "487                              Школьная лига. I тур.  2019  Асинхрон  \n",
       "98   Олимпиада Приволжского федерального округа. Финал  2019   Обычный  \n",
       "528                                       Joystick Cup  2019  Асинхрон  \n",
       "173                                 Маленькае люстэрка  2019   Синхрон  \n",
       "504                            Школьная лига. III тур.  2019  Асинхрон  \n",
       "437                                Лига вузов. III тур  2019   Синхрон  \n",
       "31                                Лига Сибири. IV тур.  2019   Синхрон  "
      ]
     },
     "execution_count": 16,
     "metadata": {},
     "output_type": "execute_result"
    }
   ],
   "source": [
    "game_ratings.head(25)"
   ]
  },
  {
   "cell_type": "code",
   "execution_count": 17,
   "metadata": {},
   "outputs": [
    {
     "data": {
      "text/html": [
       "<div>\n",
       "<style scoped>\n",
       "    .dataframe tbody tr th:only-of-type {\n",
       "        vertical-align: middle;\n",
       "    }\n",
       "\n",
       "    .dataframe tbody tr th {\n",
       "        vertical-align: top;\n",
       "    }\n",
       "\n",
       "    .dataframe thead th {\n",
       "        text-align: right;\n",
       "    }\n",
       "</style>\n",
       "<table border=\"1\" class=\"dataframe\">\n",
       "  <thead>\n",
       "    <tr style=\"text-align: right;\">\n",
       "      <th></th>\n",
       "      <th>game_id</th>\n",
       "      <th>game_rating</th>\n",
       "      <th>id</th>\n",
       "      <th>name</th>\n",
       "      <th>year</th>\n",
       "      <th>type</th>\n",
       "    </tr>\n",
       "  </thead>\n",
       "  <tbody>\n",
       "    <tr>\n",
       "      <th>117</th>\n",
       "      <td>5412</td>\n",
       "      <td>0.902527</td>\n",
       "      <td>5412</td>\n",
       "      <td>Серия Premier. Седьмая печать</td>\n",
       "      <td>2019</td>\n",
       "      <td>Синхрон</td>\n",
       "    </tr>\n",
       "    <tr>\n",
       "      <th>58</th>\n",
       "      <td>5303</td>\n",
       "      <td>0.976749</td>\n",
       "      <td>5303</td>\n",
       "      <td>Мемориал Дмитрия Коноваленко</td>\n",
       "      <td>2019</td>\n",
       "      <td>Обычный</td>\n",
       "    </tr>\n",
       "    <tr>\n",
       "      <th>498</th>\n",
       "      <td>5947</td>\n",
       "      <td>0.992736</td>\n",
       "      <td>5947</td>\n",
       "      <td>Чемпионат Мира. Этап 3. Группа С</td>\n",
       "      <td>2019</td>\n",
       "      <td>Обычный</td>\n",
       "    </tr>\n",
       "    <tr>\n",
       "      <th>501</th>\n",
       "      <td>5950</td>\n",
       "      <td>1.029759</td>\n",
       "      <td>5950</td>\n",
       "      <td>Чемпионат Мира. Финал. Группа С</td>\n",
       "      <td>2019</td>\n",
       "      <td>Обычный</td>\n",
       "    </tr>\n",
       "    <tr>\n",
       "      <th>124</th>\n",
       "      <td>5421</td>\n",
       "      <td>1.050126</td>\n",
       "      <td>5421</td>\n",
       "      <td>Львов зимой. Адвокат</td>\n",
       "      <td>2019</td>\n",
       "      <td>Синхрон</td>\n",
       "    </tr>\n",
       "    <tr>\n",
       "      <th>493</th>\n",
       "      <td>5942</td>\n",
       "      <td>1.054903</td>\n",
       "      <td>5942</td>\n",
       "      <td>Чемпионат Мира. Этап 2. Группа В</td>\n",
       "      <td>2019</td>\n",
       "      <td>Обычный</td>\n",
       "    </tr>\n",
       "    <tr>\n",
       "      <th>234</th>\n",
       "      <td>5563</td>\n",
       "      <td>1.061597</td>\n",
       "      <td>5563</td>\n",
       "      <td>Линч</td>\n",
       "      <td>2019</td>\n",
       "      <td>Синхрон</td>\n",
       "    </tr>\n",
       "    <tr>\n",
       "      <th>23</th>\n",
       "      <td>5098</td>\n",
       "      <td>1.064074</td>\n",
       "      <td>5098</td>\n",
       "      <td>Ра-II: синхрон \"Борского корабела\"</td>\n",
       "      <td>2019</td>\n",
       "      <td>Синхрон</td>\n",
       "    </tr>\n",
       "    <tr>\n",
       "      <th>156</th>\n",
       "      <td>5465</td>\n",
       "      <td>1.064378</td>\n",
       "      <td>5465</td>\n",
       "      <td>Чемпионат России</td>\n",
       "      <td>2019</td>\n",
       "      <td>Обычный</td>\n",
       "    </tr>\n",
       "    <tr>\n",
       "      <th>187</th>\n",
       "      <td>5501</td>\n",
       "      <td>1.066623</td>\n",
       "      <td>5501</td>\n",
       "      <td>Кубок Кайнозоя</td>\n",
       "      <td>2019</td>\n",
       "      <td>Синхрон</td>\n",
       "    </tr>\n",
       "    <tr>\n",
       "      <th>491</th>\n",
       "      <td>5940</td>\n",
       "      <td>1.075371</td>\n",
       "      <td>5940</td>\n",
       "      <td>Чемпионат Мира. Этап 1. Группа С</td>\n",
       "      <td>2019</td>\n",
       "      <td>Обычный</td>\n",
       "    </tr>\n",
       "    <tr>\n",
       "      <th>403</th>\n",
       "      <td>5795</td>\n",
       "      <td>1.122620</td>\n",
       "      <td>5795</td>\n",
       "      <td>Кубок Москвы</td>\n",
       "      <td>2019</td>\n",
       "      <td>Обычный</td>\n",
       "    </tr>\n",
       "    <tr>\n",
       "      <th>36</th>\n",
       "      <td>5161</td>\n",
       "      <td>1.152084</td>\n",
       "      <td>5161</td>\n",
       "      <td>Антибинго</td>\n",
       "      <td>2019</td>\n",
       "      <td>Синхрон</td>\n",
       "    </tr>\n",
       "    <tr>\n",
       "      <th>494</th>\n",
       "      <td>5943</td>\n",
       "      <td>1.172635</td>\n",
       "      <td>5943</td>\n",
       "      <td>Чемпионат Мира. Этап 2 Группа С</td>\n",
       "      <td>2019</td>\n",
       "      <td>Обычный</td>\n",
       "    </tr>\n",
       "    <tr>\n",
       "      <th>364</th>\n",
       "      <td>5741</td>\n",
       "      <td>1.191181</td>\n",
       "      <td>5741</td>\n",
       "      <td>All Cats Are Beautiful</td>\n",
       "      <td>2019</td>\n",
       "      <td>Синхрон</td>\n",
       "    </tr>\n",
       "    <tr>\n",
       "      <th>199</th>\n",
       "      <td>5515</td>\n",
       "      <td>1.201204</td>\n",
       "      <td>5515</td>\n",
       "      <td>Чемпионат Минска. Лига А. Тур четвёртый</td>\n",
       "      <td>2019</td>\n",
       "      <td>Обычный</td>\n",
       "    </tr>\n",
       "    <tr>\n",
       "      <th>41</th>\n",
       "      <td>5186</td>\n",
       "      <td>1.203172</td>\n",
       "      <td>5186</td>\n",
       "      <td>VERSUS: Коробейников vs. Матвеев</td>\n",
       "      <td>2019</td>\n",
       "      <td>Синхрон</td>\n",
       "    </tr>\n",
       "    <tr>\n",
       "      <th>22</th>\n",
       "      <td>5083</td>\n",
       "      <td>1.279682</td>\n",
       "      <td>5083</td>\n",
       "      <td>Ускользающая сова</td>\n",
       "      <td>2019</td>\n",
       "      <td>Синхрон</td>\n",
       "    </tr>\n",
       "    <tr>\n",
       "      <th>339</th>\n",
       "      <td>5693</td>\n",
       "      <td>1.295412</td>\n",
       "      <td>5693</td>\n",
       "      <td>Знание – Сила VI</td>\n",
       "      <td>2019</td>\n",
       "      <td>Синхрон</td>\n",
       "    </tr>\n",
       "    <tr>\n",
       "      <th>251</th>\n",
       "      <td>5587</td>\n",
       "      <td>1.393799</td>\n",
       "      <td>5587</td>\n",
       "      <td>Записки охотника</td>\n",
       "      <td>2019</td>\n",
       "      <td>Синхрон</td>\n",
       "    </tr>\n",
       "    <tr>\n",
       "      <th>12</th>\n",
       "      <td>5025</td>\n",
       "      <td>1.398435</td>\n",
       "      <td>5025</td>\n",
       "      <td>Кубок городов</td>\n",
       "      <td>2019</td>\n",
       "      <td>Синхрон</td>\n",
       "    </tr>\n",
       "    <tr>\n",
       "      <th>571</th>\n",
       "      <td>6101</td>\n",
       "      <td>1.555532</td>\n",
       "      <td>6101</td>\n",
       "      <td>Воображаемый музей</td>\n",
       "      <td>2019</td>\n",
       "      <td>Синхрон</td>\n",
       "    </tr>\n",
       "    <tr>\n",
       "      <th>35</th>\n",
       "      <td>5159</td>\n",
       "      <td>1.663409</td>\n",
       "      <td>5159</td>\n",
       "      <td>Первенство правого полушария</td>\n",
       "      <td>2019</td>\n",
       "      <td>Синхрон</td>\n",
       "    </tr>\n",
       "    <tr>\n",
       "      <th>482</th>\n",
       "      <td>5928</td>\n",
       "      <td>1.810218</td>\n",
       "      <td>5928</td>\n",
       "      <td>Угрюмый Ёрш</td>\n",
       "      <td>2019</td>\n",
       "      <td>Синхрон</td>\n",
       "    </tr>\n",
       "    <tr>\n",
       "      <th>594</th>\n",
       "      <td>6149</td>\n",
       "      <td>3.769993</td>\n",
       "      <td>6149</td>\n",
       "      <td>Чемпионат Санкт-Петербурга. Первая лига</td>\n",
       "      <td>2019</td>\n",
       "      <td>Обычный</td>\n",
       "    </tr>\n",
       "  </tbody>\n",
       "</table>\n",
       "</div>"
      ],
      "text/plain": [
       "     game_id  game_rating    id                                     name  \\\n",
       "117     5412     0.902527  5412            Серия Premier. Седьмая печать   \n",
       "58      5303     0.976749  5303             Мемориал Дмитрия Коноваленко   \n",
       "498     5947     0.992736  5947         Чемпионат Мира. Этап 3. Группа С   \n",
       "501     5950     1.029759  5950          Чемпионат Мира. Финал. Группа С   \n",
       "124     5421     1.050126  5421                     Львов зимой. Адвокат   \n",
       "493     5942     1.054903  5942         Чемпионат Мира. Этап 2. Группа В   \n",
       "234     5563     1.061597  5563                                     Линч   \n",
       "23      5098     1.064074  5098       Ра-II: синхрон \"Борского корабела\"   \n",
       "156     5465     1.064378  5465                         Чемпионат России   \n",
       "187     5501     1.066623  5501                           Кубок Кайнозоя   \n",
       "491     5940     1.075371  5940         Чемпионат Мира. Этап 1. Группа С   \n",
       "403     5795     1.122620  5795                             Кубок Москвы   \n",
       "36      5161     1.152084  5161                                Антибинго   \n",
       "494     5943     1.172635  5943          Чемпионат Мира. Этап 2 Группа С   \n",
       "364     5741     1.191181  5741                   All Cats Are Beautiful   \n",
       "199     5515     1.201204  5515  Чемпионат Минска. Лига А. Тур четвёртый   \n",
       "41      5186     1.203172  5186         VERSUS: Коробейников vs. Матвеев   \n",
       "22      5083     1.279682  5083                        Ускользающая сова   \n",
       "339     5693     1.295412  5693                         Знание – Сила VI   \n",
       "251     5587     1.393799  5587                         Записки охотника   \n",
       "12      5025     1.398435  5025                            Кубок городов   \n",
       "571     6101     1.555532  6101                       Воображаемый музей   \n",
       "35      5159     1.663409  5159             Первенство правого полушария   \n",
       "482     5928     1.810218  5928                              Угрюмый Ёрш   \n",
       "594     6149     3.769993  6149  Чемпионат Санкт-Петербурга. Первая лига   \n",
       "\n",
       "     year     type  \n",
       "117  2019  Синхрон  \n",
       "58   2019  Обычный  \n",
       "498  2019  Обычный  \n",
       "501  2019  Обычный  \n",
       "124  2019  Синхрон  \n",
       "493  2019  Обычный  \n",
       "234  2019  Синхрон  \n",
       "23   2019  Синхрон  \n",
       "156  2019  Обычный  \n",
       "187  2019  Синхрон  \n",
       "491  2019  Обычный  \n",
       "403  2019  Обычный  \n",
       "36   2019  Синхрон  \n",
       "494  2019  Обычный  \n",
       "364  2019  Синхрон  \n",
       "199  2019  Обычный  \n",
       "41   2019  Синхрон  \n",
       "22   2019  Синхрон  \n",
       "339  2019  Синхрон  \n",
       "251  2019  Синхрон  \n",
       "12   2019  Синхрон  \n",
       "571  2019  Синхрон  \n",
       "35   2019  Синхрон  \n",
       "482  2019  Синхрон  \n",
       "594  2019  Обычный  "
      ]
     },
     "execution_count": 17,
     "metadata": {},
     "output_type": "execute_result"
    }
   ],
   "source": [
    "game_ratings.tail(25)"
   ]
  },
  {
   "cell_type": "code",
   "execution_count": 18,
   "metadata": {},
   "outputs": [
    {
     "data": {
      "image/png": "[encoded data removed]",
      "text/plain": [
       "<Figure size 720x432 with 1 Axes>"
      ]
     },
     "metadata": {
      "needs_background": "light"
     },
     "output_type": "display_data"
    }
   ],
   "source": [
    "plot_game_ratings_hist(game_ratings)"
   ]
  },
  {
   "cell_type": "markdown",
   "metadata": {},
   "source": [
    "Действительно, школьные соревнования ощутимо легче, чем мировые."
   ]
  },
  {
   "cell_type": "markdown",
   "metadata": {},
   "source": [
    "## 6. Игроки\n",
    "\n",
    "Построим топ игроков по рейтингу, даваемому моделью.<br>\n",
    "Чтобы была какая-то численная метрика, выгрузим топ 100 игроков на сегодняшний день с сайта и будем сравнивать с нашими том 100.\n",
    "\n",
    "В качестве метрики возьмем сумму IoU нашего топ 100 и реального и корреляций Спирмена, Кендалла (для общих позиций):\n",
    "\n",
    "$$\n",
    "IoU(true_{100}, pred_{100}) = \\frac{\\# true_{100} \\cap pred_{100}}{\\# true_{100} \\cup pred_{100}} \\in [0, 1],\n",
    "$$\n",
    "\n",
    "$$\n",
    "Corr(true_{100}, pred_{100}) = \\frac{Spearman(true_{100}, pred_{100}) + 1}{4} + \\frac{Kendall(true_{100}, pred_{100}) + 1}{4} + \\frac{1}{2} \\in [0,1]\n",
    "$$\n",
    "\n",
    "$$\n",
    "Score(true_{100}, pred_{100}) = 0.8*IoU(true_{100}, pred_{100}) + 0.2*Corr(true_{100}, pred_{100}) \\in [0, 1].\n",
    "$$\n",
    "\n",
    "Весовой коэффициент 0.8 при IoU позволит больше учитывать и контент рейтинга и меньше - саму сортировку. Таким образом мы учитываем, что **топ-100 игроков по этой системе действительно сильные, хотя точный порядок особого смысла не имеет**."
   ]
  },
  {
   "cell_type": "code",
   "execution_count": 19,
   "metadata": {},
   "outputs": [
    {
     "data": {
      "text/html": [
       "<div>\n",
       "<style scoped>\n",
       "    .dataframe tbody tr th:only-of-type {\n",
       "        vertical-align: middle;\n",
       "    }\n",
       "\n",
       "    .dataframe tbody tr th {\n",
       "        vertical-align: top;\n",
       "    }\n",
       "\n",
       "    .dataframe thead th {\n",
       "        text-align: right;\n",
       "    }\n",
       "</style>\n",
       "<table border=\"1\" class=\"dataframe\">\n",
       "  <thead>\n",
       "    <tr style=\"text-align: right;\">\n",
       "      <th></th>\n",
       "      <th>place</th>\n",
       "      <th>player_rating</th>\n",
       "      <th>games_lastyear</th>\n",
       "      <th>games_total</th>\n",
       "      <th>player_id</th>\n",
       "      <th>name</th>\n",
       "    </tr>\n",
       "  </thead>\n",
       "  <tbody>\n",
       "    <tr>\n",
       "      <th>0</th>\n",
       "      <td>1</td>\n",
       "      <td>8927</td>\n",
       "      <td>55</td>\n",
       "      <td>729</td>\n",
       "      <td>30152</td>\n",
       "      <td>Сорожкин Артём Сергеевич</td>\n",
       "    </tr>\n",
       "    <tr>\n",
       "      <th>1</th>\n",
       "      <td>3</td>\n",
       "      <td>8882</td>\n",
       "      <td>35</td>\n",
       "      <td>541</td>\n",
       "      <td>30270</td>\n",
       "      <td>Спешков Сергей Леонидович</td>\n",
       "    </tr>\n",
       "    <tr>\n",
       "      <th>2</th>\n",
       "      <td>3</td>\n",
       "      <td>8882</td>\n",
       "      <td>44</td>\n",
       "      <td>606</td>\n",
       "      <td>27822</td>\n",
       "      <td>Савченков Михаил Владимирович</td>\n",
       "    </tr>\n",
       "    <tr>\n",
       "      <th>3</th>\n",
       "      <td>3</td>\n",
       "      <td>8882</td>\n",
       "      <td>97</td>\n",
       "      <td>651</td>\n",
       "      <td>28751</td>\n",
       "      <td>Семушин Иван Николаевич</td>\n",
       "    </tr>\n",
       "    <tr>\n",
       "      <th>4</th>\n",
       "      <td>5</td>\n",
       "      <td>8864</td>\n",
       "      <td>21</td>\n",
       "      <td>504</td>\n",
       "      <td>27403</td>\n",
       "      <td>Руссо Максим Михайлович</td>\n",
       "    </tr>\n",
       "    <tr>\n",
       "      <th>5</th>\n",
       "      <td>6</td>\n",
       "      <td>8795</td>\n",
       "      <td>40</td>\n",
       "      <td>594</td>\n",
       "      <td>4270</td>\n",
       "      <td>Брутер Александра Владимировна</td>\n",
       "    </tr>\n",
       "    <tr>\n",
       "      <th>6</th>\n",
       "      <td>7</td>\n",
       "      <td>8766</td>\n",
       "      <td>105</td>\n",
       "      <td>741</td>\n",
       "      <td>18332</td>\n",
       "      <td>Либер Александр Витальевич</td>\n",
       "    </tr>\n",
       "    <tr>\n",
       "      <th>7</th>\n",
       "      <td>8</td>\n",
       "      <td>8591</td>\n",
       "      <td>18</td>\n",
       "      <td>427</td>\n",
       "      <td>18036</td>\n",
       "      <td>Левандовский Михаил Ильич</td>\n",
       "    </tr>\n",
       "    <tr>\n",
       "      <th>8</th>\n",
       "      <td>9</td>\n",
       "      <td>8586</td>\n",
       "      <td>50</td>\n",
       "      <td>678</td>\n",
       "      <td>6482</td>\n",
       "      <td>Галачян Ким Гагикович</td>\n",
       "    </tr>\n",
       "    <tr>\n",
       "      <th>9</th>\n",
       "      <td>10</td>\n",
       "      <td>8563</td>\n",
       "      <td>39</td>\n",
       "      <td>425</td>\n",
       "      <td>22799</td>\n",
       "      <td>Николенко Сергей Игоревич</td>\n",
       "    </tr>\n",
       "  </tbody>\n",
       "</table>\n",
       "</div>"
      ],
      "text/plain": [
       "  place  player_rating  games_lastyear  games_total  player_id  \\\n",
       "0     1           8927              55          729      30152   \n",
       "1     3           8882              35          541      30270   \n",
       "2     3           8882              44          606      27822   \n",
       "3     3           8882              97          651      28751   \n",
       "4     5           8864              21          504      27403   \n",
       "5     6           8795              40          594       4270   \n",
       "6     7           8766             105          741      18332   \n",
       "7     8           8591              18          427      18036   \n",
       "8     9           8586              50          678       6482   \n",
       "9    10           8563              39          425      22799   \n",
       "\n",
       "                             name  \n",
       "0        Сорожкин Артём Сергеевич  \n",
       "1       Спешков Сергей Леонидович  \n",
       "2   Савченков Михаил Владимирович  \n",
       "3         Семушин Иван Николаевич  \n",
       "4         Руссо Максим Михайлович  \n",
       "5  Брутер Александра Владимировна  \n",
       "6      Либер Александр Витальевич  \n",
       "7       Левандовский Михаил Ильич  \n",
       "8           Галачян Ким Гагикович  \n",
       "9       Николенко Сергей Игоревич  "
      ]
     },
     "execution_count": 19,
     "metadata": {},
     "output_type": "execute_result"
    }
   ],
   "source": [
    "top100_real = pd.read_csv('data/top100.csv')\n",
    "top100_real.head(10)"
   ]
  },
  {
   "cell_type": "markdown",
   "metadata": {},
   "source": [
    "### Наивный рейтинг"
   ]
  },
  {
   "cell_type": "code",
   "execution_count": 20,
   "metadata": {
    "scrolled": false
   },
   "outputs": [],
   "source": [
    "player_ratings = model.player_ratings.copy()\n",
    "player_questioncount = get_player_questioncount(train_results)\n",
    "player_ratings = player_ratings.merge(players, left_on='player_id', right_on='id') \\\n",
    "                               .merge(player_questioncount, on='player_id')\n",
    "player_ratings.sort_values('player_rating', ascending=False, inplace=True)\n",
    "\n",
    "top100_ours = player_ratings.iloc[:100, :].reset_index(drop=True)"
   ]
  },
  {
   "cell_type": "code",
   "execution_count": 21,
   "metadata": {},
   "outputs": [
    {
     "data": {
      "text/html": [
       "<div>\n",
       "<style scoped>\n",
       "    .dataframe tbody tr th:only-of-type {\n",
       "        vertical-align: middle;\n",
       "    }\n",
       "\n",
       "    .dataframe tbody tr th {\n",
       "        vertical-align: top;\n",
       "    }\n",
       "\n",
       "    .dataframe thead th {\n",
       "        text-align: right;\n",
       "    }\n",
       "</style>\n",
       "<table border=\"1\" class=\"dataframe\">\n",
       "  <thead>\n",
       "    <tr style=\"text-align: right;\">\n",
       "      <th></th>\n",
       "      <th>player_id</th>\n",
       "      <th>player_rating</th>\n",
       "      <th>id</th>\n",
       "      <th>name</th>\n",
       "      <th>question_count</th>\n",
       "    </tr>\n",
       "  </thead>\n",
       "  <tbody>\n",
       "    <tr>\n",
       "      <th>0</th>\n",
       "      <td>4270</td>\n",
       "      <td>2.527566</td>\n",
       "      <td>4270</td>\n",
       "      <td>Александра Брутер</td>\n",
       "      <td>2240</td>\n",
       "    </tr>\n",
       "    <tr>\n",
       "      <th>1</th>\n",
       "      <td>27822</td>\n",
       "      <td>2.519647</td>\n",
       "      <td>27822</td>\n",
       "      <td>Михаил Савченков</td>\n",
       "      <td>2666</td>\n",
       "    </tr>\n",
       "    <tr>\n",
       "      <th>2</th>\n",
       "      <td>27403</td>\n",
       "      <td>2.466334</td>\n",
       "      <td>27403</td>\n",
       "      <td>Максим Руссо</td>\n",
       "      <td>1796</td>\n",
       "    </tr>\n",
       "    <tr>\n",
       "      <th>3</th>\n",
       "      <td>28751</td>\n",
       "      <td>2.458650</td>\n",
       "      <td>28751</td>\n",
       "      <td>Иван Семушин</td>\n",
       "      <td>3071</td>\n",
       "    </tr>\n",
       "    <tr>\n",
       "      <th>4</th>\n",
       "      <td>22799</td>\n",
       "      <td>2.455613</td>\n",
       "      <td>22799</td>\n",
       "      <td>Сергей Николенко</td>\n",
       "      <td>1806</td>\n",
       "    </tr>\n",
       "    <tr>\n",
       "      <th>5</th>\n",
       "      <td>30270</td>\n",
       "      <td>2.414311</td>\n",
       "      <td>30270</td>\n",
       "      <td>Сергей Спешков</td>\n",
       "      <td>3017</td>\n",
       "    </tr>\n",
       "    <tr>\n",
       "      <th>6</th>\n",
       "      <td>30152</td>\n",
       "      <td>2.409691</td>\n",
       "      <td>30152</td>\n",
       "      <td>Артём Сорожкин</td>\n",
       "      <td>4006</td>\n",
       "    </tr>\n",
       "    <tr>\n",
       "      <th>7</th>\n",
       "      <td>18036</td>\n",
       "      <td>2.386758</td>\n",
       "      <td>18036</td>\n",
       "      <td>Михаил Левандовский</td>\n",
       "      <td>1113</td>\n",
       "    </tr>\n",
       "    <tr>\n",
       "      <th>8</th>\n",
       "      <td>20691</td>\n",
       "      <td>2.373067</td>\n",
       "      <td>20691</td>\n",
       "      <td>Станислав Мереминский</td>\n",
       "      <td>1370</td>\n",
       "    </tr>\n",
       "    <tr>\n",
       "      <th>9</th>\n",
       "      <td>13689</td>\n",
       "      <td>2.363609</td>\n",
       "      <td>13689</td>\n",
       "      <td>Дмитрий Карякин</td>\n",
       "      <td>1097</td>\n",
       "    </tr>\n",
       "    <tr>\n",
       "      <th>10</th>\n",
       "      <td>74001</td>\n",
       "      <td>2.357333</td>\n",
       "      <td>74001</td>\n",
       "      <td>Игорь Мокин</td>\n",
       "      <td>900</td>\n",
       "    </tr>\n",
       "    <tr>\n",
       "      <th>11</th>\n",
       "      <td>16837</td>\n",
       "      <td>2.350661</td>\n",
       "      <td>16837</td>\n",
       "      <td>Наталья Кудряшова</td>\n",
       "      <td>2147</td>\n",
       "    </tr>\n",
       "    <tr>\n",
       "      <th>12</th>\n",
       "      <td>30260</td>\n",
       "      <td>2.349947</td>\n",
       "      <td>30260</td>\n",
       "      <td>Евгений Спектор</td>\n",
       "      <td>233</td>\n",
       "    </tr>\n",
       "    <tr>\n",
       "      <th>13</th>\n",
       "      <td>37047</td>\n",
       "      <td>2.348243</td>\n",
       "      <td>37047</td>\n",
       "      <td>Мария Юнгер</td>\n",
       "      <td>452</td>\n",
       "    </tr>\n",
       "    <tr>\n",
       "      <th>14</th>\n",
       "      <td>26089</td>\n",
       "      <td>2.347230</td>\n",
       "      <td>26089</td>\n",
       "      <td>Ирина Прокофьева</td>\n",
       "      <td>652</td>\n",
       "    </tr>\n",
       "    <tr>\n",
       "      <th>15</th>\n",
       "      <td>21698</td>\n",
       "      <td>2.343365</td>\n",
       "      <td>21698</td>\n",
       "      <td>Александр Мосягин</td>\n",
       "      <td>838</td>\n",
       "    </tr>\n",
       "    <tr>\n",
       "      <th>16</th>\n",
       "      <td>4226</td>\n",
       "      <td>2.342255</td>\n",
       "      <td>4226</td>\n",
       "      <td>Сусанна Бровер</td>\n",
       "      <td>518</td>\n",
       "    </tr>\n",
       "    <tr>\n",
       "      <th>17</th>\n",
       "      <td>22935</td>\n",
       "      <td>2.341593</td>\n",
       "      <td>22935</td>\n",
       "      <td>Илья Новиков</td>\n",
       "      <td>1266</td>\n",
       "    </tr>\n",
       "    <tr>\n",
       "      <th>18</th>\n",
       "      <td>38175</td>\n",
       "      <td>2.337823</td>\n",
       "      <td>38175</td>\n",
       "      <td>Максим Пилипенко</td>\n",
       "      <td>36</td>\n",
       "    </tr>\n",
       "    <tr>\n",
       "      <th>19</th>\n",
       "      <td>18194</td>\n",
       "      <td>2.336985</td>\n",
       "      <td>18194</td>\n",
       "      <td>Мария Кленницкая</td>\n",
       "      <td>935</td>\n",
       "    </tr>\n",
       "    <tr>\n",
       "      <th>20</th>\n",
       "      <td>9061</td>\n",
       "      <td>2.334372</td>\n",
       "      <td>9061</td>\n",
       "      <td>Евгений Дёмин</td>\n",
       "      <td>369</td>\n",
       "    </tr>\n",
       "    <tr>\n",
       "      <th>21</th>\n",
       "      <td>16332</td>\n",
       "      <td>2.333985</td>\n",
       "      <td>16332</td>\n",
       "      <td>Николай Крапиль</td>\n",
       "      <td>1319</td>\n",
       "    </tr>\n",
       "    <tr>\n",
       "      <th>22</th>\n",
       "      <td>87637</td>\n",
       "      <td>2.309996</td>\n",
       "      <td>87637</td>\n",
       "      <td>Антон Саксонов</td>\n",
       "      <td>927</td>\n",
       "    </tr>\n",
       "    <tr>\n",
       "      <th>23</th>\n",
       "      <td>24384</td>\n",
       "      <td>2.302015</td>\n",
       "      <td>24384</td>\n",
       "      <td>Евгений Пашковский</td>\n",
       "      <td>1224</td>\n",
       "    </tr>\n",
       "    <tr>\n",
       "      <th>24</th>\n",
       "      <td>34328</td>\n",
       "      <td>2.291061</td>\n",
       "      <td>34328</td>\n",
       "      <td>Михаил Царёв</td>\n",
       "      <td>366</td>\n",
       "    </tr>\n",
       "  </tbody>\n",
       "</table>\n",
       "</div>"
      ],
      "text/plain": [
       "    player_id  player_rating     id                   name  question_count\n",
       "0        4270       2.527566   4270      Александра Брутер            2240\n",
       "1       27822       2.519647  27822       Михаил Савченков            2666\n",
       "2       27403       2.466334  27403           Максим Руссо            1796\n",
       "3       28751       2.458650  28751           Иван Семушин            3071\n",
       "4       22799       2.455613  22799       Сергей Николенко            1806\n",
       "5       30270       2.414311  30270         Сергей Спешков            3017\n",
       "6       30152       2.409691  30152         Артём Сорожкин            4006\n",
       "7       18036       2.386758  18036    Михаил Левандовский            1113\n",
       "8       20691       2.373067  20691  Станислав Мереминский            1370\n",
       "9       13689       2.363609  13689        Дмитрий Карякин            1097\n",
       "10      74001       2.357333  74001            Игорь Мокин             900\n",
       "11      16837       2.350661  16837      Наталья Кудряшова            2147\n",
       "12      30260       2.349947  30260        Евгений Спектор             233\n",
       "13      37047       2.348243  37047            Мария Юнгер             452\n",
       "14      26089       2.347230  26089       Ирина Прокофьева             652\n",
       "15      21698       2.343365  21698      Александр Мосягин             838\n",
       "16       4226       2.342255   4226         Сусанна Бровер             518\n",
       "17      22935       2.341593  22935           Илья Новиков            1266\n",
       "18      38175       2.337823  38175       Максим Пилипенко              36\n",
       "19      18194       2.336985  18194       Мария Кленницкая             935\n",
       "20       9061       2.334372   9061          Евгений Дёмин             369\n",
       "21      16332       2.333985  16332        Николай Крапиль            1319\n",
       "22      87637       2.309996  87637         Антон Саксонов             927\n",
       "23      24384       2.302015  24384     Евгений Пашковский            1224\n",
       "24      34328       2.291061  34328           Михаил Царёв             366"
      ]
     },
     "execution_count": 21,
     "metadata": {},
     "output_type": "execute_result"
    }
   ],
   "source": [
    "top100_ours.head(25)"
   ]
  },
  {
   "cell_type": "code",
   "execution_count": 22,
   "metadata": {},
   "outputs": [
    {
     "data": {
      "text/plain": [
       "0.36497"
      ]
     },
     "execution_count": 22,
     "metadata": {},
     "output_type": "execute_result"
    }
   ],
   "source": [
    "top_score(top100_real, top100_ours)"
   ]
  },
  {
   "cell_type": "markdown",
   "metadata": {},
   "source": [
    "Действительно, в топе довольно много неизвестных людей с малым число сыгранных вопросов. Рейтинг плохо коррелирует с тем, что на сайте.<br>\n",
    "Постараемся улучшить ситуацию."
   ]
  },
  {
   "cell_type": "markdown",
   "metadata": {},
   "source": [
    "### Рейтинг с отсечкой\n",
    "\n",
    "Попробуем разные отсечки, чтобы адекватно выбрать нужный уровень.<br>\n",
    "Посмотрим, как это сказывается на нашей top-100 метрике."
   ]
  },
  {
   "cell_type": "code",
   "execution_count": 23,
   "metadata": {},
   "outputs": [
    {
     "name": "stderr",
     "output_type": "stream",
     "text": [
      "100%|██████████| 2900/2900 [00:11<00:00, 242.91it/s]"
     ]
    },
    {
     "name": "stdout",
     "output_type": "stream",
     "text": [
      "Лучший порог: 1277\n"
     ]
    },
    {
     "name": "stderr",
     "output_type": "stream",
     "text": [
      "\n"
     ]
    },
    {
     "data": {
      "image/png": "[encoded data removed]",
      "text/plain": [
       "<Figure size 432x288 with 1 Axes>"
      ]
     },
     "metadata": {
      "needs_background": "light"
     },
     "output_type": "display_data"
    }
   ],
   "source": [
    "scores = []\n",
    "best_score = 0\n",
    "best_threshold = None\n",
    "\n",
    "for t in tqdm(range(100, 3000)):\n",
    "    threshold_ratings = player_ratings[player_ratings['question_count'] > t]\n",
    "    top100_ours = threshold_ratings.iloc[:100, :]\n",
    "    score = top_score(top100_real, top100_ours)\n",
    "    scores.append(score)\n",
    "    if score > best_score:\n",
    "        best_score = score\n",
    "        best_threshold = t\n",
    "\n",
    "print('Лучший порог:', best_threshold)\n",
    "\n",
    "plt.plot(scores)\n",
    "plt.xlabel('Порог отсечки')\n",
    "plt.ylabel('Метрика IoU + Corrs')\n",
    "plt.show()"
   ]
  },
  {
   "cell_type": "markdown",
   "metadata": {},
   "source": [
    "Видно, что метрики некоторое время растут с увеличением отсечки. Выявляется даже максимум скора по отсечке - при количестве сыгранных вопросов = 1277.\n",
    "\n",
    "Посмотрим на данные с предварительной отсечкой (выберем полученное выше значение $t=1277$).<br>\n",
    "Заметим что обучающая выборка сократилась в 30 раз - с 57к до 2.3к. Сразу понятно, почему так делать, вообще говоря не стоит."
   ]
  },
  {
   "cell_type": "code",
   "execution_count": 24,
   "metadata": {},
   "outputs": [
    {
     "name": "stdout",
     "output_type": "stream",
     "text": [
      "Кол-во игроков\n",
      "Было: 55353\n",
      "Стало: 2197\n"
     ]
    }
   ],
   "source": [
    "print('Кол-во игроков')\n",
    "print('Было:', len(player_ratings))\n",
    "print('Стало:', len(player_ratings[player_ratings['question_count'] > best_threshold]))"
   ]
  },
  {
   "cell_type": "markdown",
   "metadata": {},
   "source": [
    "**Другое возможное решение:** обучать логрегрессию на выборке с весами. Весом объекта (игорока) можно считать число, близкое к 0, если он мало  играл, и близкое к  1, если много. Например, в простейшем варианте как-то так\n",
    "\n",
    "$$\n",
    "w(x) = 1 - \\exp\\left(-\\frac{total\\_questions(x)}{1484}\\right).\n",
    "$$\n",
    "\n",
    "Так мы не потеряем бОльшую часть обучающей выборки, но повысим внимание модели именно к игрокам, сыгравшим солидное количество вопросов.\n",
    "\n",
    "Реализуем этот вариант."
   ]
  },
  {
   "cell_type": "code",
   "execution_count": 25,
   "metadata": {},
   "outputs": [],
   "source": [
    "player_ratings['weight'] = player_ratings['question_count'].apply(lambda c: 1 - np.exp(-c/1277))"
   ]
  },
  {
   "cell_type": "code",
   "execution_count": 26,
   "metadata": {},
   "outputs": [
    {
     "name": "stdout",
     "output_type": "stream",
     "text": [
      "prepare sparse data...\n",
      "data: (13787815, 83581).\n",
      "fit logictic regression...\n"
     ]
    },
    {
     "name": "stderr",
     "output_type": "stream",
     "text": [
      "100%|██████████| 100000/100000 [17:08<00:00, 97.19it/s]\n"
     ]
    },
    {
     "name": "stdout",
     "output_type": "stream",
     "text": [
      "save model params...\n",
      "done!\n"
     ]
    }
   ],
   "source": [
    "model = LinearModel(lr=15.0, num_iter=100000, batch_size=1000)\n",
    "model.fit(train_results, weights=player_ratings)"
   ]
  },
  {
   "cell_type": "code",
   "execution_count": 27,
   "metadata": {},
   "outputs": [],
   "source": [
    "pred_results = model.predict(test_results)"
   ]
  },
  {
   "cell_type": "code",
   "execution_count": 28,
   "metadata": {},
   "outputs": [
    {
     "data": {
      "text/plain": [
       "{'spearman': 0.663, 'kendall': 0.512}"
      ]
     },
     "execution_count": 28,
     "metadata": {},
     "output_type": "execute_result"
    }
   ],
   "source": [
    "mean_correlation_score(test_results, pred_results)"
   ]
  },
  {
   "cell_type": "markdown",
   "metadata": {},
   "source": [
    "Стало хуже. Наверное, игроки среднего уровня и может даже и новички все-таки влияют на картину в целом."
   ]
  },
  {
   "cell_type": "markdown",
   "metadata": {},
   "source": [
    "**Вывод:**\n",
    "\n",
    "Оба подхода - отсечка и взвешивание - в какой-то степени работают, но являются по сути полумерами к решению проблемы **холодного старта** - особого учета в рейтинге игроков, сыгравших мало игр. Основные проблемы здесь:\n",
    "1. новый игрок находится вне рейтинга некоторое время\n",
    "2. непонятно, из каких соображений выбирать отсечку: мало-плохо, много-тоже, посередине - ноунеймы близко к топу\n",
    "3. после срабатывания порога (когда игрок наиграл достаточное число вопросов) он поадает в рейтинг/обучение и сразу же (жестко) начинает влиять на общий рейтинг. Желательно вводить игрока в рейтинг постепенно. В следующем пункте покажем, как это можно сделать.\n",
    "4. в обоих случаях модель получается не универсальная: всегда приходится выбрасывать игроков по отсечке - и на этапе тренировки, и на этапе предсказаний.\n",
    "5. не до конца понятно, что значит \"не учитывать\" игрока. Он все равно играет в команде. В рассмотренных случаях \"не учитывать\" фактически означало делать его рейтинг равным нулю.\n",
    "6. даже разумная отсечка в 1484 сыгранных вопросов очень сильно просеивает игроков - с 57к до 2.3к, серьезно сокращая обучающую выборку."
   ]
  },
  {
   "cell_type": "markdown",
   "metadata": {},
   "source": [
    "### Софт-рейтинг модель\n",
    "\n",
    "Так как EM-алгоритм максимизирует правдоподобие, то результат его работы - *фиксированный* вектор параметров-рейтингов.\n",
    "Решить проблему \"холодного старта\" системы рейнгов в этом случае можно, пожалуй, только фильтрациями (по числу игр/вопросов/еще как-то).\n",
    "\n",
    "Проблема \"холодного старта\" системы рейнгов поддается адекватному решению только в том случае, если мы имеем не вектор параметров-рейтингов, а вектор их распределений. Например, начав с каких-нибудь априорных распределений рейтингов игроков, мы могли бы найти (например MCMC семплированием) **апостериорные распределения рейтингов** игроков исходя из результатов их игр. В этом случае можно предложить **следующие решения**: \n",
    "\n",
    "1. брать в качестве рейтинга не среднее/медиану/моду(MAP) апостериорного распределения, я некоторый его t-й квантиль (t < 0.5).\n",
    "\n",
    "2. брать в качестве рейтинга величину = среднее - t * среднекв. отклонение\n",
    "\n",
    "В обоих случаях гиперпараметр $t$ можно подбирать на отложенной выборке. \n",
    "\n",
    "Продемонстрируем плюсы решения 1 на простом примере. Пусть игрок А из 3-х вопросов взял 2, а игрок из 300 вопросов взял 150 (сложность вопросов пока не учитываем). Что бы мы ни взяли: долю ответов, медиану, моду - рейтинг игрока A оказывается выше рейтинга B. \n",
    "Но если промоделировать рейтинг игроков бэта-распределением (как монетки), то получим следующие распределения:\n",
    "\n",
    "$$\n",
    "rank_A \\sim Beta(3, 2), \\quad rank_B \\sim Beta(151, 151).\n",
    "$$\n",
    "\n",
    "Все меняется, если мы сравним их t-квантили (например, при $t=0.25$):"
   ]
  },
  {
   "cell_type": "code",
   "execution_count": 29,
   "metadata": {
    "scrolled": false
   },
   "outputs": [
    {
     "data": {
      "image/png": "[encoded data removed]",
      "text/plain": [
       "<Figure size 1008x360 with 1 Axes>"
      ]
     },
     "metadata": {
      "needs_background": "light"
     },
     "output_type": "display_data"
    }
   ],
   "source": [
    "plot_example()"
   ]
  },
  {
   "cell_type": "markdown",
   "metadata": {},
   "source": [
    "И это имеет смысл: беря квантиль, мы учитываем не только средние значения распределений, но и их дисперсию, которая тем ниже, чем больше игрок играет.\n",
    "\n",
    "Продемонстрируем работоспособность такого подхода, предложив еще одну простую модель. Дабы не уходить в MCMC и подобные вещи, модель сделаем не строгую, а скорее простейшую демонстративную. Уже в этом случае удастся повысить качество классификации. В целом, модель будет похожа на самую первую - простейшую, но с распределениями вместо рейтингов.\n",
    "\n",
    "Итак, предположим, что\n",
    "1. рейтинг игрока - не одно число, а целое распределение.\n",
    "2. пусть это $Beta$ распределение с параметрами: $\\alpha - 1=$ средне-суммированный рейтинг взятых игроком вопросов (усредненный как в первой модели по всем командам, в которых выступал игрок), $\\beta - 1=$ средне-суммированный рейтинг НЕ взятых игроком вопросов.\n",
    "3. итоговый рейтинг игрока = t-й перцентиль этого распределения (t подберем на тесте)\n",
    "4. итоговый рейтинг команды = сумма рейтингов ее игроков"
   ]
  },
  {
   "cell_type": "code",
   "execution_count": 30,
   "metadata": {
    "scrolled": true
   },
   "outputs": [],
   "source": [
    "class SoftRatingModel:\n",
    "    def __init__(self, t):\n",
    "        self.t = t\n",
    "        self.player_ratings = None\n",
    "\n",
    "    def fit(self, data):\n",
    "        team_results = data[['game_id', 'questions', 'members']].copy()\n",
    "\n",
    "        team_results['team_stats'] = \\\n",
    "            team_results.groupby('game_id')\\\n",
    "                        .apply(self._get_team_ratings)\\\n",
    "                        .explode()\\\n",
    "                        .values.tolist()\n",
    "        team_results['team_rating'] = team_results['team_stats'].apply(lambda x: x[0])\n",
    "        team_results['team_antirating'] = team_results['team_stats'].apply(lambda x: x[1])\n",
    "        player_results = team_results.explode('members').rename({'members': 'player_id'}, axis=1)\n",
    "        player_ratings = player_results.groupby('player_id').agg({'team_rating': 'sum', \n",
    "                                                                  'team_antirating': 'sum'}).reset_index()\n",
    "        player_ratings.rename({'team_rating': 'player_rating', \n",
    "                               'team_antirating': 'player_antirating'}, axis=1, inplace=True)\n",
    "\n",
    "        player_ratings['t-rating'] = player_ratings.apply(self._get_t_rating, axis=1)\n",
    "        self.player_ratings = player_ratings\n",
    "\n",
    "    def predict(self, data):\n",
    "        result = data[['game_id', 'team_id', 'members']].explode('members')\\\n",
    "                                                        .rename({'members': 'player_id'}, axis=1)\n",
    "        result = result.merge(self.player_ratings, on='player_id')\n",
    "        result = result.groupby(['game_id', 'team_id'])['t-rating'].sum().reset_index()\n",
    "        result.columns = ['game_id', 'team_id', 'team_rating']\n",
    "        return result\n",
    "    \n",
    "    def _get_t_rating(self, r):\n",
    "        a = r['player_rating'] + 1\n",
    "        b = r['player_antirating'] + 1\n",
    "        return beta.ppf(self.t, a, b)\n",
    "    \n",
    "    @staticmethod\n",
    "    def _get_team_ratings(g):\n",
    "        questions_mask = np.array(list(g['questions'].values))\n",
    "        questions_ratings = 1 - questions_mask.mean(axis=0)\n",
    "        team_ratings = (questions_mask * questions_ratings).sum(axis=1)\n",
    "        team_antiratings = ((1 - questions_mask) * questions_ratings).sum(axis=1)\n",
    "\n",
    "        return np.vstack((team_ratings, team_antiratings)).T"
   ]
  },
  {
   "cell_type": "code",
   "execution_count": 31,
   "metadata": {
    "scrolled": true
   },
   "outputs": [
    {
     "name": "stderr",
     "output_type": "stream",
     "text": [
      "  0%|          | 0/101 [00:00<?, ?it/s]/home/sergey/anaconda3/lib/python3.8/site-packages/scipy/stats/stats.py:4196: SpearmanRConstantInputWarning: An input array is constant; the correlation coefficent is not defined.\n",
      "  warnings.warn(SpearmanRConstantInputWarning())\n",
      "100%|██████████| 101/101 [15:05<00:00,  8.96s/it]\n"
     ]
    },
    {
     "data": {
      "image/png": "[encoded data removed]",
      "text/plain": [
       "<Figure size 432x288 with 1 Axes>"
      ]
     },
     "metadata": {
      "needs_background": "light"
     },
     "output_type": "display_data"
    }
   ],
   "source": [
    "ss = []\n",
    "ks = []\n",
    "ts = np.arange(0, 1.01, 0.01)\n",
    "\n",
    "for t in tqdm(ts):\n",
    "    model = SoftRatingModel(t)\n",
    "    model.fit(train_results)\n",
    "    pred_results = model.predict(test_results)\n",
    "    score = mean_correlation_score(test_results, pred_results)\n",
    "    ss.append(score['spearman'])\n",
    "    ks.append(score['kendall'])\n",
    "\n",
    "plt.plot(ts, ss, label='spearman')\n",
    "plt.plot(ts, ks, label='kendall')\n",
    "plt.legend()\n",
    "plt.show()"
   ]
  },
  {
   "cell_type": "markdown",
   "metadata": {},
   "source": [
    "Действительно, это работает - метрики увеличиваются с уменьшением порога квантиля t. Итак, плюсы такого решения:\n",
    "1. Не \"жесткого\" гиперпараметра порога, который непонятно как настраивать. \"Мягкий\" гоперпараметр квантиля можно вообще устремить к нулю - на ранжирование это повлияет скорее позитивно.\n",
    "2. Игрок \"мягко\" вводится в общий рейтинг, сначала мало влияя на него, затем с ростом числа игр все сильнее.\n",
    "3. Игрок имеет рейтинг с первых ирг (на самом деле и здесь я бы сделал небольшую отсечку, но уже совсем небольшую, чтобы нивелировать отголоски проблемы холодного старнта, отчасти присутствующие в любом решении)"
   ]
  },
  {
   "cell_type": "markdown",
   "metadata": {},
   "source": [
    "## 7. Динамические рейтинги"
   ]
  },
  {
   "cell_type": "markdown",
   "metadata": {},
   "source": [
    "### Обучение на всех данных\n",
    "\n",
    "Сначала обучим модель на всех доступных данных (возьмем логрегрессию для простоты).<br>\n",
    "UPD: на всех не вышло. Берем 2017-2019 года."
   ]
  },
  {
   "cell_type": "code",
   "execution_count": 10,
   "metadata": {},
   "outputs": [
    {
     "data": {
      "text/plain": [
       "(159664, 9)"
      ]
     },
     "execution_count": 10,
     "metadata": {},
     "output_type": "execute_result"
    }
   ],
   "source": [
    "train_results_all = team_results[team_results['year'].isin([2017,2018,2019])]\n",
    "train_results_all.shape"
   ]
  },
  {
   "cell_type": "code",
   "execution_count": 11,
   "metadata": {},
   "outputs": [
    {
     "name": "stdout",
     "output_type": "stream",
     "text": [
      "prepare sparse data...\n",
      "data: (34265151, 169250).\n",
      "fit logictic regression...\n"
     ]
    },
    {
     "name": "stderr",
     "output_type": "stream",
     "text": [
      "100%|██████████| 400000/400000 [2:49:03<00:00, 39.43it/s]  \n"
     ]
    },
    {
     "name": "stdout",
     "output_type": "stream",
     "text": [
      "save model params...\n",
      "done!\n"
     ]
    }
   ],
   "source": [
    "model_all = LinearModel(lr=15.0, num_iter=400000, batch_size=2000)\n",
    "model_all.fit(train_results_all)"
   ]
  },
  {
   "cell_type": "code",
   "execution_count": 12,
   "metadata": {},
   "outputs": [],
   "source": [
    "pred_results = model_all.predict(test_results)"
   ]
  },
  {
   "cell_type": "code",
   "execution_count": 13,
   "metadata": {},
   "outputs": [
    {
     "data": {
      "text/plain": [
       "{'spearman': 0.752, 'kendall': 0.594}"
      ]
     },
     "execution_count": 13,
     "metadata": {},
     "output_type": "execute_result"
    }
   ],
   "source": [
    "mean_correlation_score(test_results, pred_results)"
   ]
  },
  {
   "cell_type": "markdown",
   "metadata": {},
   "source": [
    "Метрики не выросли. Еле-еле дотянули то тех, что были, и то с бОльшим числом итераций."
   ]
  },
  {
   "cell_type": "markdown",
   "metadata": {},
   "source": [
    "### Скользящий рейтинг\n",
    "\n",
    "Предложим следующию систему динамических рейтингов:\n",
    "- пересчитываем рейтинги (=переобучаем нашу рейтинговую регрессию) с требуемой частотой, скажем, раз в месяц.\n",
    "- в результате каждого нового пересчета для каждого игрока будет посчитан новый рейтинг: $r_{new}$ . Взвешенно суммируем его с предыдущим:\n",
    "\n",
    "$$\n",
    "r = \\alpha r_{new} + (1 - \\alpha) r_{prev}\n",
    "$$\n",
    "\n",
    "с некоторым $\\alpha\\in(0,1)$. Получаем скользящее среднее рейтингов игрока, которое ставит в приоритет (при больших $\\alpha$) его последние результаты, но не забывает и об истории его рейтингов. По параметру $\\alpha$ можно оптимизировать.\n",
    "\n",
    "Попробуем этот подход. Для простоты сделаем обучение рейтингов не по месяцам, а по годам: 2017, 2018, 2019 и возьмем скользящее среднее результатов."
   ]
  },
  {
   "cell_type": "code",
   "execution_count": 14,
   "metadata": {},
   "outputs": [],
   "source": [
    "alpha = 0.5"
   ]
  },
  {
   "cell_type": "code",
   "execution_count": 15,
   "metadata": {
    "scrolled": false
   },
   "outputs": [
    {
     "name": "stdout",
     "output_type": "stream",
     "text": [
      "START TRAIN FOR YEAR: 42912\n",
      "--------------------------------------\n",
      "prepare sparse data...\n",
      "data: (9566519, 59786).\n",
      "fit logictic regression...\n"
     ]
    },
    {
     "name": "stderr",
     "output_type": "stream",
     "text": [
      "100%|██████████| 200000/200000 [24:32<00:00, 135.82it/s]\n"
     ]
    },
    {
     "name": "stdout",
     "output_type": "stream",
     "text": [
      "save model params...\n",
      "done!\n",
      "START TRAIN FOR YEAR: 50000\n",
      "--------------------------------------\n",
      "prepare sparse data...\n",
      "data: (10910817, 72149).\n",
      "fit logictic regression...\n"
     ]
    },
    {
     "name": "stderr",
     "output_type": "stream",
     "text": [
      "100%|██████████| 200000/200000 [28:39<00:00, 116.29it/s]\n"
     ]
    },
    {
     "name": "stdout",
     "output_type": "stream",
     "text": [
      "save model params...\n",
      "done!\n",
      "START TRAIN FOR YEAR: 66752\n",
      "--------------------------------------\n",
      "prepare sparse data...\n",
      "data: (13787815, 83581).\n",
      "fit logictic regression...\n"
     ]
    },
    {
     "name": "stderr",
     "output_type": "stream",
     "text": [
      "100%|██████████| 200000/200000 [34:25<00:00, 96.83it/s]\n"
     ]
    },
    {
     "name": "stdout",
     "output_type": "stream",
     "text": [
      "save model params...\n",
      "done!\n"
     ]
    }
   ],
   "source": [
    "years_ratings = pd.DataFrame({'player_id': []})\n",
    "\n",
    "for year in [2017, 2018, 2019]:\n",
    "    train_results_year = team_results[team_results['year'].isin([year])]\n",
    "    print(f'START TRAIN FOR YEAR: {train_results_year.shape[0]}')\n",
    "    print('--------------------------------------')\n",
    "\n",
    "    model_year = LinearModel(lr=15.0, num_iter=200000, batch_size=1000)\n",
    "    model_year.fit(train_results_year)\n",
    "    years_ratings = years_ratings.merge(model_year.player_ratings, on='player_id', how='outer').fillna(0.0)\n",
    "    years_ratings.rename({'player_rating': f'player_rating_{year}'}, axis=1, inplace=True)"
   ]
  },
  {
   "cell_type": "code",
   "execution_count": 16,
   "metadata": {
    "scrolled": true
   },
   "outputs": [],
   "source": [
    "player_rating = None\n",
    "\n",
    "for year in [2017, 2018, 2019]:\n",
    "    curr_rating = years_ratings[f'player_rating_{year}'].values\n",
    "    player_rating = (1 - alpha)*player_rating + alpha*curr_rating if player_rating is not None else curr_rating\n",
    "    \n",
    "years_ratings['player_rating'] = player_rating"
   ]
  },
  {
   "cell_type": "code",
   "execution_count": 17,
   "metadata": {
    "scrolled": true
   },
   "outputs": [],
   "source": [
    "model_slide = LinearModel()\n",
    "model_slide.player_ratings = years_ratings[['player_id', 'player_rating']]\n",
    "pred_results = model_slide.predict(test_results)"
   ]
  },
  {
   "cell_type": "code",
   "execution_count": 18,
   "metadata": {},
   "outputs": [
    {
     "data": {
      "text/plain": [
       "{'spearman': 0.746, 'kendall': 0.59}"
      ]
     },
     "execution_count": 18,
     "metadata": {},
     "output_type": "execute_result"
    }
   ],
   "source": [
    "mean_correlation_score(test_results, pred_results)"
   ]
  },
  {
   "cell_type": "markdown",
   "metadata": {},
   "source": [
    "Метрики не возросли. Увы."
   ]
  },
  {
   "cell_type": "markdown",
   "metadata": {},
   "source": [
    "### Байесовский рейтинг\n",
    "\n",
    "Сама система баейсовского вывода естественным образом позволяет сделать динамические рейтинги, которые к тому же можно обновлять максимально динамично - после каждой игры. Если у нас будут распределения рейтингов вместо статичных чисел, то обновлять их можно будет обычной схемой bayesian update.\n",
    "\n",
    "Из минусов такого решения - bayesian update рейтингов может быть очень трудозатратен: если распределения не вычисляются в явном виде, то придется считать интегралы. Если же удастся реализовать эту схему посредством сопряженных распределений, то все должно быть ок.\n",
    "\n",
    "Как это сделать хорошо - надо думать. Нужно полностью менять модель, проводить эксперименты. В качестве демонстрации можно было бы использовать имплементированную выше модель SoftRatingModel, но я этого делать не стал - ноутбук и так уже сильно раздулся :). Идея довольно ясна - с приходом новых вопросов инкрементаются степени в бета-распределениях рейтингов, и дальше уже можно считать все, что захотим - например, пересчитывать сами рейтинги как t-квантили этих распределений."
   ]
  },
  {
   "cell_type": "markdown",
   "metadata": {},
   "source": [
    "## Выводы"
   ]
  },
  {
   "cell_type": "markdown",
   "metadata": {},
   "source": [
    "Было рассмотрено 4 модели со своими достоинствами и недостатками:\n",
    "\n",
    "- **Простая no-ML модель**: простота, неплохие метрики. Минусы - статичный рейтинг, метрики ниже, чем у других моделей, новички влияют на рейтинг.\n",
    "- **Логрегрессия**: простота, почти топовые метрики. Минусы - статичный рейтинг, результаты игрока неотделимы от результатов команды, новички влияют на рейтинг.\n",
    "- **EM-логрегрессия**: топовые метрики, результаты игрока отделяются от результатов команды. Минусы - статичный рейтинг, долго обучать, новички влияют на рейтинг.\n",
    "- **\"Байесовская\" мягкая модель** (простое демо на самом деле) - неплохие метрики (выше, чем у простой модели), распределения на выходе, новички почти не влияют на рейтинг. Минусы - это демо идеи, а не реальная модель. Реальную было бы сложнее обучать и использовать.\n",
    "\n",
    "**Общие выводы:**\n",
    "- EM алгоритм действительно позволяет учесть скрытые переменные через наблюдаемые и показать (приближенно) силу игрока в отрыве от силы всей команды.\n",
    "- Для рейтинговой системы скорее всего лучше подойдет полная байевская модель, дающая распределения рейтингов. Такой подход даст и регуляризацию, и естесственную возможность понизить рейтинг новичков. Кроме того он может дать естественный инструмент для расчете рейтингов в реал-тайм сразу после игр - с помощью байесовского обновления.\n",
    "- Подходы для унижения новичков типа выбрасывания из рейтингов малосыгравших, взвешивания из с малым весом - практически не сработали."
   ]
  },
  {
   "cell_type": "markdown",
   "metadata": {},
   "source": [
    "<div style=\"visibility:hidden\">\n",
    "### Максимка\n",
    "</div>"
   ]
  },
  {
   "cell_type": "markdown",
   "metadata": {
    "scrolled": true
   },
   "source": [
    "<div style=\"visibility:hidden\">\n",
    "ббоорпрбднолгорорр7н57\n",
    "</div>"
   ]
  }
 ],
 "metadata": {
  "kernelspec": {
   "display_name": "Python 3",
   "language": "python",
   "name": "python3"
  },
  "language_info": {
   "codemirror_mode": {
    "name": "ipython",
    "version": 3
   },
   "file_extension": ".py",
   "mimetype": "text/x-python",
   "name": "python",
   "nbconvert_exporter": "python",
   "pygments_lexer": "ipython3",
   "version": "3.8.5"
  }
 },
 "nbformat": 4,
 "nbformat_minor": 4
}
